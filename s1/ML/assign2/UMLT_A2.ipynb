{
 "cells": [
  {
   "cell_type": "markdown",
   "metadata": {},
   "source": [
    "# Assignment 2: Classification\n",
    "# Using Machine Learning Tools CS3317\n",
    "\n",
    "## Overview\n",
    "\n",
    "In this assignment, you will apply some popular machine learning techniques to the problem of classifying data from histological cell images for the diagnosis of malignant breast cancer. This will be presented as a practical scenario where you are approached by a client to solve a problem.  \n",
    "\n",
    "The main aims of this assignment are: \n",
    "\n",
    "- to use the best practice machine learning workflow for producing a solution to a client's problem;\n",
    "- to visualise data and determine the best pre-processing;\n",
    "- to create the necessary datasets for training and testing purposes;\n",
    "- to train and optimise a selection of models, then choose the best;\n",
    "- to obtain an unbiased measurement of the final model's performance;\n",
    "- to interpret results clearly and concisely.\n",
    "\n",
    "This assignment relates to the following ACS CBOK areas: abstraction, design, hardware and software, data and information, HCI and programming.\n",
    "\n",
    "## General instructions\n",
    "\n",
    "This assignment is divided into several tasks. Use the spaces provided in this notebook to answer the questions posed in each task. Note that some questions require writing a small amount of code, some require graphical results. \n",
    "\n",
    "**Do not** manually edit the data set file we have provided! For marking purposes, it's important that your code runs correctly on the original data file.\n",
    "\n",
    "Some of the parts of this assignment build on the workflow from the first assignment and that part of the course, and so less detailed instructions are provided for this, as you should be able to implement this workflow now without low-level guidance. A substantial portion of the marks for this assignment are associated with making the right choices and executing this workflow correctly and efficiently.\n",
    "\n",
    "This assignment can be solved using methods from [sklearn](https://scikit-learn.org/stable/index.html), [pandas](https://pandas.pydata.org/pandas-docs/stable/index.html), and [matplotlib](https://matplotlib.org/stable/index.html) as presented in the workshops. **Other libraries should not be used** (even though they might have nice functionality) and certain restrictions on sklearn functions will be made clear in the instruction text. You are expected to search and carefully read the documentation for functions that you use, to ensure you are using them correctly."
   ]
  },
  {
   "cell_type": "markdown",
   "metadata": {},
   "source": [
    "# Scenario\n",
    "\n",
    "A client approaches you to solve a machine learning problem for them. They run a pathology lab that processes histological images for healthcare providers and they have created a product that measures the same features as in the *Wisconsin breast cancer data set* though using different acquisitions and processing methods. This makes their method much faster than existing ones, but it is also slightly noisier. The dataset contains measurements of several features that describe characteristics of cell nuclei present in digital images of breast tissue samples. These features include the mean, standard error, and \"worst\" (i.e., largest) values of measurements such as radius, texture, perimeter, area, smoothness, compactness, concavity, concave points, symmetry, and fractal dimension. Each feature is represented by a numeric value, and each data point represents a sample from either a malignant (cancerous) or benign (non-cancerous) breast tissue.\n",
    "\n",
    "The client want to be able to diagnose *malignant* cancer (and distinguish them from *benign* growths) by employing machine learning techniques, and they have asked you to implement this for them.\n",
    "\n",
    "Their requirements are:\n",
    " 1) have at least a 95% probability of detecting malignant cancer when it is present;\n",
    " 2) have no more than 1 in 10 healthy cases (those with benign tumours) labelled as positive (malignant).\n",
    " \n",
    "They have hand-labelled 300 samples for you, which is all they have at the moment.\n",
    "\n",
    "Please follow the instructions below, which will vary in level of detail, as appropriate to the marks given."
   ]
  },
  {
   "cell_type": "code",
   "execution_count": 1,
   "metadata": {
    "tags": []
   },
   "outputs": [],
   "source": [
    "# This code imports some libraries that you will need. \n",
    "# You should not need to modify it, though you are expected to make other imports later in your code.\n",
    "\n",
    "# Common imports\n",
    "import sys\n",
    "import numpy as np\n",
    "import time\n",
    "import pandas as pd\n",
    "import sklearn\n",
    "from sklearn import tree\n",
    "from sklearn import svm\n",
    "from sklearn.pipeline import Pipeline\n",
    "from sklearn.preprocessing import StandardScaler\n",
    "from sklearn.model_selection import GridSearchCV\n",
    "from sklearn.metrics import confusion_matrix\n",
    "import re\n",
    "\n",
    "# Plot setup\n",
    "import matplotlib as mpl\n",
    "import matplotlib.pyplot as plt\n",
    "import seaborn as sns\n",
    "mpl.rc('axes', labelsize=7)\n",
    "mpl.rc('xtick', labelsize=6)\n",
    "mpl.rc('ytick', labelsize=6)\n",
    "mpl.rc('figure', dpi=240)\n",
    "plt.close('all')"
   ]
  },
  {
   "cell_type": "markdown",
   "metadata": {},
   "source": [
    "**Step 1** [1 point]\n",
    "\n",
    "Load the dataset Do this from the csv file, `assignment2.csv`. Extract the feature names for use later on. The first column is our target and it contains the labels (benign and malignant). Note that we will be treating the _malignant_ case as our _positive_ case, as this is the standard convention in medicine."
   ]
  },
  {
   "cell_type": "code",
   "execution_count": 2,
   "metadata": {
    "tags": []
   },
   "outputs": [],
   "source": [
    "data = pd.read_csv('assignment2.csv')\n",
    "\n",
    "feature_names = list(data.columns[1:])\n",
    "\n",
    "# The following code is used by the autograder\n",
    "# make sure your variable that contains the answer from this step is the one assigned to step1_1data\n",
    "step1_data = data.copy()"
   ]
  },
  {
   "cell_type": "markdown",
   "metadata": {},
   "source": [
    "<!-- BEGIN QUESTION -->\n",
    "\n",
    "**Step 2** [3 points]\n",
    "\n",
    "As this data is well curated by the client already, you do not need to worry about outliers, missing values or imputation in this case, but be aware that this is the exception, not the rule.\n",
    "\n",
    "To familiarise yourself with the nature and information contained in the data, display histograms for the data according to the following instructions:\n",
    " - Isolate each group of features (mean, standard error, and worst) into its own DataFrame.\n",
    " - you are provided with code to display histograms for each feature in the _mean_ group. On _each_ histogram the two classes displayed together in one plot \n",
    " - **repeat this** for the _standard error_ and _worst_ groups; \n",
    "\n",
    "**Based on the histograms and using the function *corr()* or *numpy corrcoef()* which do you think are the 3 strongest features for discriminating between the classes?**"
   ]
  },
  {
   "cell_type": "code",
   "execution_count": 3,
   "metadata": {},
   "outputs": [],
   "source": [
    "# Separate the mean, standard error, and worst groups into separate dataframes\n",
    "mean_group = data.filter(regex='mean')\n",
    "error_group = data.filter(regex='error')\n",
    "worst_group = data.filter(regex='worst')\n",
    "\n",
    "#  You can comment out the plotting code before uploading it to gradescope for faster evaluation\n",
    "class_labels = ['benign', 'malignant'] "
   ]
  },
  {
   "cell_type": "code",
   "execution_count": 4,
   "metadata": {},
   "outputs": [],
   "source": [
    "# fig = plt.figure(figsize=(12, 8))  \n",
    "\n",
    "# # Plot the histograms for each feature in the mean group with both classes displayed together\n",
    "# for i, feature in enumerate(mean_group.columns):  \n",
    "#     plt.subplot(3, 4, i+1)  \n",
    "#     plt.hist([mean_group[feature][data['label'] == 'benign'], mean_group[feature]\n",
    "#              [data['label'] == 'malignant']], label=class_labels)  \n",
    "#     plt.xlabel(\"Feature Value\")  \n",
    "#     plt.ylabel(\"Frequency\")  \n",
    "#     plt.legend() \n",
    "#     plt.title(feature)  \n",
    "\n",
    "# plt.tight_layout()  \n",
    "# plt.show() "
   ]
  },
  {
   "cell_type": "code",
   "execution_count": 5,
   "metadata": {},
   "outputs": [],
   "source": [
    "# fig = plt.figure(figsize=(12, 8))  \n",
    "\n",
    "# # Plot the histograms for each feature in the error group\n",
    "# for i, feature in enumerate(error_group.columns):  \n",
    "#     plt.subplot(3, 4, i+1)  \n",
    "#     plt.hist([error_group[feature][data['label'] == 'benign'], error_group[feature]\n",
    "#              [data['label'] == 'malignant']], label=class_labels)  \n",
    "#     plt.xlabel(\"Feature Value\")  \n",
    "#     plt.ylabel(\"Frequency\")  \n",
    "#     plt.legend() \n",
    "#     plt.title(feature)  \n",
    "\n",
    "# plt.tight_layout()  \n",
    "# plt.show()  "
   ]
  },
  {
   "cell_type": "code",
   "execution_count": 6,
   "metadata": {},
   "outputs": [],
   "source": [
    "# fig = plt.figure(figsize=(12, 8))  \n",
    "\n",
    "# # Plot the histograms for each feature in the worst group\n",
    "# for i, feature in enumerate(worst_group.columns):  \n",
    "#     plt.subplot(3, 4, i+1)  \n",
    "#     plt.hist([worst_group[feature][data['label'] == 'benign'], worst_group[feature]\n",
    "#              [data['label'] == 'malignant']], label=class_labels)  \n",
    "#     plt.xlabel(\"Feature Value\")  \n",
    "#     plt.ylabel(\"Frequency\")  \n",
    "#     plt.legend() \n",
    "#     plt.title(feature)  \n",
    "\n",
    "# plt.tight_layout()  \n",
    "# plt.show()  "
   ]
  },
  {
   "cell_type": "code",
   "execution_count": 7,
   "metadata": {},
   "outputs": [],
   "source": [
    "data['label'] = data['label'].replace({'malignant':1, 'benign':0})"
   ]
  },
  {
   "cell_type": "code",
   "execution_count": 8,
   "metadata": {
    "tags": []
   },
   "outputs": [
    {
     "name": "stdout",
     "output_type": "stream",
     "text": [
      "label                      1.000000\n",
      "worst concave points       0.778575\n",
      "worst perimeter            0.764033\n",
      "worst radius               0.755703\n",
      "mean concave points        0.729886\n",
      "mean perimeter             0.710967\n",
      "worst area                 0.705986\n",
      "mean radius                0.698323\n",
      "mean area                  0.664719\n",
      "mean concavity             0.623550\n",
      "worst concavity            0.622537\n",
      "worst compactness          0.588025\n",
      "mean compactness           0.571838\n",
      "worst texture              0.510801\n",
      "area error                 0.508086\n",
      "radius error               0.506787\n",
      "perimeter error            0.503923\n",
      "mean texture               0.478151\n",
      "worst smoothness           0.435969\n",
      "worst symmetry             0.420787\n",
      "worst fractal dimension    0.350321\n",
      "mean smoothness            0.349023\n",
      "concave points error       0.316472\n",
      "mean symmetry              0.306239\n",
      "compactness error          0.246652\n",
      "concavity error            0.157780\n",
      "fractal dimension error    0.029922\n",
      "mean fractal dimension     0.005676\n",
      "texture error             -0.045997\n",
      "symmetry error            -0.060779\n",
      "smoothness error          -0.094472\n",
      "Name: label, dtype: float64\n"
     ]
    }
   ],
   "source": [
    "corr_matrix = data.corr()\n",
    "\n",
    "print(corr_matrix['label'].sort_values(ascending=False))\n",
    "\n",
    "# ranked_features = [\"Feature1 name\", \"Feature2 name\", \"Feature3 name\"] \n",
    "ranked_features = [\"worst concave points\", \"worst perimeter\", \"worst radius\"]\n",
    "\n",
    "# The following code is used by the autograder\n",
    "step2_data = ranked_features"
   ]
  },
  {
   "cell_type": "markdown",
   "metadata": {},
   "source": [
    "<!-- END QUESTION -->\n",
    "\n",
    "**Step3** [3 points]\n",
    "\n",
    "Convert the labels into 0s and 1s so that benign is represented by 0 and malignant is represented by 1.\n",
    "\n",
    "Split the dataset into appropriate subsets for training, validation and test sets. You must choose the size of each subset. However, make sure that the proportion of the two classes is consistent across all datasets using the _stratify_ option, as used in workshops 5 and 6. Verify the size and label distribution in each dataset."
   ]
  },
  {
   "cell_type": "code",
   "execution_count": 9,
   "metadata": {
    "tags": []
   },
   "outputs": [
    {
     "name": "stdout",
     "output_type": "stream",
     "text": [
      "Training set size: 180\n",
      "Validation set size: 60\n",
      "Test set size: 60\n"
     ]
    }
   ],
   "source": [
    "from sklearn.model_selection import train_test_split\n",
    "\n",
    "# Convert labels to 0 (benign) and 1 (malignant): Done on Step2\n",
    "\n",
    "# Split dataset into training, validation, and test sets\n",
    "bigtrain_set, test_set = train_test_split(data, test_size=0.2, random_state = 42, stratify=data['label'])\n",
    "train_set, val_set = train_test_split(bigtrain_set, test_size=0.25, random_state=42, stratify=bigtrain_set['label'])\n",
    "\n",
    "X_train = train_set.iloc[:,1:]\n",
    "y_train = train_set.iloc[:,0]\n",
    "X_test = test_set.iloc[:,1:]\n",
    "y_test = test_set.iloc[:,0]\n",
    "X_val = val_set.iloc[:,1:]\n",
    "y_val = val_set.iloc[:,0]\n",
    "\n",
    "# Print the size of each resulting subset\n",
    "print(\"Training set size:\", len(X_train))\n",
    "print(\"Validation set size:\", len(X_val))\n",
    "print(\"Test set size:\", len(X_test))\n",
    "\n",
    "# print(\"Training set label distribution: \")\n",
    "# print(y_train.value_counts(normalize=True))\n",
    "# print(\"Validation set label distribution: \")\n",
    "# print(y_val.value_counts(normalize=True))\n",
    "# print(\"Test set label distribution: \")\n",
    "# print(y_test.value_counts(normalize=True))\n",
    "\n",
    "# The following code is used by the autograder\n",
    "step3_data = [len(X_train) , len(X_val) , len(X_test)]"
   ]
  },
  {
   "cell_type": "markdown",
   "metadata": {},
   "source": [
    "**Step4** [4 points]\n",
    "\n",
    "Baseline measurements \n",
    "\n",
    "For our classification task we will consider **three simple baseline cases**:\n",
    "1) predicting all samples to be negative (class 1)\n",
    "2) predicting all samples to be positive (class 2)\n",
    "3) making a random prediction for each sample with equal probability for each class "
   ]
  },
  {
   "cell_type": "code",
   "execution_count": 10,
   "metadata": {
    "tags": []
   },
   "outputs": [],
   "source": [
    "# create arrays to hold the predicted labels for each baseline case\n",
    "baseline1_preds = np.zeros_like(y_test)\n",
    "baseline2_preds = np.ones_like(y_test)\n",
    "baseline3_preds = np.random.randint(low=0, high=2, size=len(y_test))\n",
    "\n",
    "# The following code is used by the autograder.\n",
    "step4_data = [baseline1_preds, baseline2_preds, baseline3_preds] "
   ]
  },
  {
   "cell_type": "markdown",
   "metadata": {},
   "source": [
    "**Step5** [2 points]\n",
    "\n",
    "Write a function that returns the following metrics for all baseline measures created in Step4, use the function and print the metrics:\n",
    "\n",
    " - recall\n",
    " - precision\n",
    " - auc\n",
    " - f1score"
   ]
  },
  {
   "cell_type": "code",
   "execution_count": 11,
   "metadata": {
    "tags": []
   },
   "outputs": [],
   "source": [
    "from sklearn.metrics import precision_score, recall_score, roc_auc_score, f1_score\n",
    "\n",
    "def calculate_metrics(y_true, y_pred):   \n",
    "    rec = recall_score(y_true, y_pred)\n",
    "    prec = precision_score(y_true, y_pred)\n",
    "    auc = roc_auc_score(y_true, y_pred)\n",
    "    f1 = f1_score(y_true, y_pred)\n",
    "\n",
    "    return rec, prec, auc, f1\n",
    "\n",
    "# The following code is used by the autograder.\n",
    "step5_data = calculate_metrics"
   ]
  },
  {
   "cell_type": "markdown",
   "metadata": {},
   "source": [
    "**Step6** [3 points]\n",
    "\n",
    "Create a function which takes in the true labels and the predictions and returns the following parameters:\n",
    "\n",
    "* Number of True Positives (TP)\n",
    "* Number of True Negatives (TN)\n",
    "* Number of False Positive (FP)\n",
    "* Number of False Negative (FN)"
   ]
  },
  {
   "cell_type": "code",
   "execution_count": 12,
   "metadata": {
    "tags": []
   },
   "outputs": [],
   "source": [
    "# This function returns the number of TP, TN, FP, FN.\n",
    "def get_values(y_true, y_pred):\n",
    "    y_true = np.array(y_true)\n",
    "    y_pred = np.array(y_pred)\n",
    "\n",
    "    tp = sum((y_true == 1) & (y_pred == 1))\n",
    "    tn = sum((y_true == 0) & (y_pred == 0))\n",
    "    fp = sum((y_true == 0) & (y_pred == 1))\n",
    "    fn = sum((y_true == 1) & (y_pred == 0))\n",
    "    return tp, tn, fp, fn\n",
    "\n",
    "# The following code is used by the autograder.\n",
    "step6_data = get_values"
   ]
  },
  {
   "cell_type": "markdown",
   "metadata": {},
   "source": [
    "**Step7 [3 points]**\n",
    "\n",
    "Based on the above baseline tests and the client's requirements, **choose a performance metric** to use for evaluating/driving your machine learning methods.\n",
    "\n",
    "Choose the best metric of the five and assign to the variable below.\n",
    "* For AUC, use \"roc_auc\"\n",
    "* For recall, use \"recall\"\n",
    "* For precision, use \"precision\"\n",
    "* For F1 Score, use \"f1\"\n",
    "\n",
    "***NOTE:*** Not all the metrics are equally useful for meeting the requirements of the client, thereby, choose only the one most suitable metric."
   ]
  },
  {
   "cell_type": "code",
   "execution_count": 13,
   "metadata": {
    "tags": []
   },
   "outputs": [],
   "source": [
    "# Choose the best metric of the five and assign to the variable below. The variable takes a string.\n",
    "chosen_metric = 'roc_auc'\n",
    "\n",
    "# The following code is used by the autograder\n",
    "step7_data = chosen_metric"
   ]
  },
  {
   "cell_type": "markdown",
   "metadata": {},
   "source": [
    "**Step8** [3 points]\n",
    "\n",
    "**Creating a SGD baseline**\n",
    "\n",
    "For a stronger baseline, **train the Stochastic Gradient Descent classifier (SGD) model** on the training data and evaluate it on the validation data (as seen in workshop 4). Use a Pipeline for this which considers the preprocessing and the SGD model. For this baseline case use the default settings for all the hyperparameters."
   ]
  },
  {
   "cell_type": "markdown",
   "metadata": {},
   "source": [
    "Build a pre-processing pipeline that includes imputation (as even though we don't strictly need it here it is a good habit to always include it) and other appropriate pre-processing. Create another pipeline for the SGD model which has preprocessing pipeline as the pre-processing part. Train the model and evaluate it on the validation data.   "
   ]
  },
  {
   "cell_type": "code",
   "execution_count": 14,
   "metadata": {
    "tags": []
   },
   "outputs": [
    {
     "name": "stdout",
     "output_type": "stream",
     "text": [
      "0.9482758620689655\n"
     ]
    }
   ],
   "source": [
    "from sklearn.impute import SimpleImputer\n",
    "from sklearn.linear_model import SGDClassifier\n",
    "\n",
    "# Create pre-processing pipeline\n",
    "preproc_pl = Pipeline([\n",
    "    ('imputer', SimpleImputer(strategy='mean')),\n",
    "    ('scaler', StandardScaler())\n",
    "])\n",
    "\n",
    "# Create SGD model pipeline which has preproc_pl as the pre-processing part\n",
    "sgd_base = Pipeline([\n",
    "    ('preprocessor', preproc_pl),\n",
    "    ('classifier', SGDClassifier(random_state=42))\n",
    "])\n",
    "\n",
    "# fit the SGD pipeline on the training data\n",
    "sgd_base.fit(X_train, y_train)\n",
    "y_pred = sgd_base.predict(X_val)\n",
    "\n",
    "# evaluate on the validation data\n",
    "auc = roc_auc_score(y_val, y_pred)\n",
    "print(auc)\n",
    "\n",
    "# The following code is used by the autograder.\n",
    "step8_data = sgd_base"
   ]
  },
  {
   "cell_type": "markdown",
   "metadata": {},
   "source": [
    "**Step9** [2 points]\n",
    "\n",
    "On the validation data, calculate and print or display the **normalized** version of the confusion matrix.  Given the normalized confusion matrix, **what is the _probability_ that a sample from a person with a malignant tumour is given a result that they do not have cancer?  Which of the client's two criteria does this relate to, and is this baseline satisfying this criterion or not?**"
   ]
  },
  {
   "cell_type": "code",
   "execution_count": 15,
   "metadata": {
    "tags": []
   },
   "outputs": [
    {
     "data": {
      "image/png": "[encoded data removed]",
      "text/plain": [
       "<Figure size 1536x1152 with 2 Axes>"
      ]
     },
     "metadata": {},
     "output_type": "display_data"
    }
   ],
   "source": [
    "# Put your confusion matrix here\n",
    "y_pred = sgd_base.predict(X_val)\n",
    "cmat = confusion_matrix(y_val, y_pred, normalize='true')\n",
    "\n",
    "# Display or print cmat\n",
    "sns.heatmap(cmat,annot=True)\n",
    "plt.xlabel('Predicted')\n",
    "plt.ylabel('True')\n",
    "plt.title('Confusion Matrix')\n",
    "plt.show()\n",
    "\n",
    "# Assign the required probability to the variable below\n",
    "required_prob = cmat[1, 0]\n",
    "# Choose which of the client's two criteria does this relate to (1 or 2)\n",
    "criteria = 1\n",
    "# Does the baseline model satisfy this criterion? (\"YES\" or \"NO\")\n",
    "satisfy = \"NO\"\n",
    "# The following code is used by the autograder.\n",
    "step9_data = cmat, required_prob"
   ]
  },
  {
   "cell_type": "markdown",
   "metadata": {},
   "source": [
    "### Main classifier \n",
    "\n",
    "In this part, you need to try different models for classification, check their performance and determine the best for the present scenario.\n",
    "\n",
    "Follow best practice as much as possible here. You must make all the choices and decisions yourself, and strike a balance between computation time and performance.\n",
    "\n",
    "You can use any of the sklearn functions used in workshops 3, 4, 5 and 6. Other hyper-parameter optimisation functions apart from these cannot be used (even if they are good and can be part of best practice in other situations - for this assignment everyone should assume they only have very limited computation resources and limit themselves to these functions). Hint: Use **GridSearchCV** to solve these steps.\n",
    "\n",
    "**Display the performance of the different classifiers and the optimised hyperparameters.**\n"
   ]
  },
  {
   "cell_type": "markdown",
   "metadata": {},
   "source": [
    "**Step10** [3 point]\n",
    "\n",
    "**Train and optimise the hyperparameters** to give the best performance for a **KNN (K-Nearest Neighbour)** classifier. For this model consider and  evaluate the following parameters:\n",
    "\n",
    "* n_neighbors (with no value greater than 20)\n",
    "* weights\n",
    "* algorithm\n",
    "* metric\n",
    "* p (with no value greater than 20)\n",
    "\n",
    "Read the documentation about this model to find some proper ranges and ensure that you use the pipeline created in Step8 to train this model. How to decide what are the best setting of parameters? -> use the best metric identified in the **Step7**."
   ]
  },
  {
   "cell_type": "code",
   "execution_count": 16,
   "metadata": {
    "tags": []
   },
   "outputs": [
    {
     "name": "stdout",
     "output_type": "stream",
     "text": [
      "knn_best_parameters : {'knn__algorithm': 'ball_tree', 'knn__metric': 'manhattan', 'knn__n_neighbors': 8, 'knn__p': 1, 'knn__weights': 'distance'}\n"
     ]
    }
   ],
   "source": [
    "# Write your solution here\n",
    "from sklearn.neighbors import KNeighborsClassifier\n",
    "\n",
    "# Put the pipeline with the appropriate model \n",
    "knn_pl = Pipeline([\n",
    "    ('preprocessor', preproc_pl),\n",
    "    ('knn', KNeighborsClassifier())\n",
    "])\n",
    "\n",
    "# Use GridSearchCV here with cv=5\n",
    "param_grid_knn = {'knn__n_neighbors':[4, 6, 8], \n",
    "                  'knn__weights':['uniform', 'distance'],\n",
    "                  'knn__algorithm':['ball_tree', 'kd_tree', 'brute'],\n",
    "                  'knn__metric':['euclidean', 'manhattan', 'minkowski'],\n",
    "                  'knn__p':[1, 2, 3]}\n",
    "\n",
    "knn_model = GridSearchCV(knn_pl, param_grid_knn, cv=5,\n",
    "                     scoring=chosen_metric, return_train_score=True)\n",
    "\n",
    "knn_model.fit(X_train, y_train)\n",
    "\n",
    "print(f'knn_best_parameters : {knn_model.best_params_}') \n",
    "\n",
    "# Return best parameters in a dictionary\n",
    "knn_best_parameters = knn_model.best_params_\n",
    "\n",
    "# The following code is used by the autograder.\n",
    "step10_data = knn_model, knn_best_parameters, knn_pl"
   ]
  },
  {
   "cell_type": "markdown",
   "metadata": {},
   "source": [
    "**Step11** [2 points]\n",
    "\n",
    "**Train and optimise the hyperparameters** to give the best performance for a **Decision tree classifier** classifier. For this model consider and  evaluate the following parameters:\n",
    "\n",
    "* criterion\n",
    "* max_depth (with no value greater than 20)\n",
    "* min_samples_split (with no value greater than 20)\n",
    "* min_samples_leaf (with no value greater than 20)\n",
    "* max_features\n",
    "\n",
    "Read the documentation about this model to find some proper ranges and ensure that you use the pipeline created in Step8 to train this model. \n"
   ]
  },
  {
   "cell_type": "code",
   "execution_count": 17,
   "metadata": {
    "tags": []
   },
   "outputs": [
    {
     "name": "stdout",
     "output_type": "stream",
     "text": [
      "dt_best_parameters : {'dt__criterion': 'entropy', 'dt__max_depth': 13, 'dt__max_features': 'sqrt', 'dt__min_samples_leaf': 8, 'dt__min_samples_split': 14}\n"
     ]
    }
   ],
   "source": [
    "from sklearn.tree import DecisionTreeClassifier\n",
    "\n",
    "# Put the pipeline with the appropriate model \n",
    "dt_pl = Pipeline([\n",
    "    ('preprocessor', preproc_pl),\n",
    "    ('dt', DecisionTreeClassifier())\n",
    "])\n",
    "\n",
    "# Use GridSearchCV with cv=5\n",
    "param_grid_dt = {'dt__criterion': ['gini', 'entropy'],\n",
    "              'dt__max_depth': [13, 14, 15],\n",
    "              'dt__min_samples_split': [13, 14, 15],\n",
    "              'dt__min_samples_leaf': [7, 8, 9],\n",
    "              'dt__max_features': ['sqrt', 'log2']}\n",
    "\n",
    "dt_model = GridSearchCV(dt_pl, param_grid_dt, cv=5,\n",
    "                     scoring=chosen_metric, return_train_score=True)\n",
    "\n",
    "dt_model.fit(X_train, y_train)\n",
    "\n",
    "print(f'dt_best_parameters : {dt_model.best_params_}') \n",
    "\n",
    "# Return best parameters in a dictionary\n",
    "dt_best_parameters = dt_model.best_params_\n",
    "\n",
    "# The following code is used by the autograder.\n",
    "step11_data = dt_model,dt_best_parameters, dt_pl"
   ]
  },
  {
   "cell_type": "markdown",
   "metadata": {},
   "source": [
    "**Step12** [2 points]\n",
    "\n",
    "**Train and optimise the hyperparameters** to give the best performance for a **C-Support Vector Classification** classifier. For this model consider and  evaluate the following parameters:\n",
    "\n",
    "* C. Regularization parameter (with no value greater than 100)\n",
    "* kernel\n",
    "* gamma\n",
    "\n",
    "Read the documentation about this model to find some proper ranges and ensure that you use the pipeline created in Step8 to train this model. "
   ]
  },
  {
   "cell_type": "code",
   "execution_count": 18,
   "metadata": {
    "tags": []
   },
   "outputs": [
    {
     "name": "stdout",
     "output_type": "stream",
     "text": [
      "svc_best_parameters : {'svc__C': 1, 'svc__gamma': 'scale', 'svc__kernel': 'rbf'}\n"
     ]
    }
   ],
   "source": [
    "from sklearn.svm import SVC\n",
    "\n",
    "# Put the pipeline with the appropriate model \n",
    "svc_pl = Pipeline([\n",
    "    ('preprocessor', preproc_pl),\n",
    "    ('svc', SVC())\n",
    "])\n",
    "\n",
    "# Use GridSearchCV with cv=5 \n",
    "param_grid_svc = {'svc__C': [1,2,3],\n",
    "              'svc__kernel': ['linear', 'poly', 'rbf', 'sigmoid'],\n",
    "              'svc__gamma': ['scale', 'auto']}\n",
    "\n",
    "svc_model = GridSearchCV(svc_pl, param_grid_svc, cv=5,\n",
    "                     scoring=chosen_metric, return_train_score=True)\n",
    "\n",
    "svc_model.fit(X_train, y_train)\n",
    "\n",
    "print(f'svc_best_parameters : {svc_model.best_params_}') \n",
    "\n",
    "# Return best parameters in a dictionary\n",
    "svc_best_parameters = svc_model.best_params_\n",
    "\n",
    "# The following code is used by the autograder.\n",
    "step12_data = svc_model,svc_best_parameters, svc_pl"
   ]
  },
  {
   "cell_type": "markdown",
   "metadata": {},
   "source": [
    "**Step13** [2 points]\n",
    "\n",
    "**Train and optimise the hyperparameters** to give the best performance for a **SGD classifier** classifier. For this model consider and  evaluate the following parameters:\n",
    "\n",
    "* loss \n",
    "* penalty\n",
    "* alpha (with no value greater than 100)\n",
    "* learning_rate\n",
    "* eta0 (with no value greater than 100)\n",
    "\n",
    "Read the documentation about this model to find some proper ranges and ensure that you use the pipeline created in Step8 to train this model. "
   ]
  },
  {
   "cell_type": "code",
   "execution_count": 19,
   "metadata": {
    "tags": []
   },
   "outputs": [
    {
     "name": "stderr",
     "output_type": "stream",
     "text": [
      "c:\\Users\\gbhoa\\anaconda3\\envs\\uml_env\\lib\\site-packages\\sklearn\\linear_model\\_stochastic_gradient.py:702: ConvergenceWarning: Maximum number of iteration reached before convergence. Consider increasing max_iter to improve the fit.\n",
      "  warnings.warn(\n",
      "c:\\Users\\gbhoa\\anaconda3\\envs\\uml_env\\lib\\site-packages\\sklearn\\linear_model\\_stochastic_gradient.py:702: ConvergenceWarning: Maximum number of iteration reached before convergence. Consider increasing max_iter to improve the fit.\n",
      "  warnings.warn(\n",
      "c:\\Users\\gbhoa\\anaconda3\\envs\\uml_env\\lib\\site-packages\\sklearn\\linear_model\\_stochastic_gradient.py:702: ConvergenceWarning: Maximum number of iteration reached before convergence. Consider increasing max_iter to improve the fit.\n",
      "  warnings.warn(\n",
      "c:\\Users\\gbhoa\\anaconda3\\envs\\uml_env\\lib\\site-packages\\sklearn\\linear_model\\_stochastic_gradient.py:702: ConvergenceWarning: Maximum number of iteration reached before convergence. Consider increasing max_iter to improve the fit.\n",
      "  warnings.warn(\n",
      "c:\\Users\\gbhoa\\anaconda3\\envs\\uml_env\\lib\\site-packages\\sklearn\\linear_model\\_stochastic_gradient.py:702: ConvergenceWarning: Maximum number of iteration reached before convergence. Consider increasing max_iter to improve the fit.\n",
      "  warnings.warn(\n",
      "c:\\Users\\gbhoa\\anaconda3\\envs\\uml_env\\lib\\site-packages\\sklearn\\linear_model\\_stochastic_gradient.py:702: ConvergenceWarning: Maximum number of iteration reached before convergence. Consider increasing max_iter to improve the fit.\n",
      "  warnings.warn(\n",
      "c:\\Users\\gbhoa\\anaconda3\\envs\\uml_env\\lib\\site-packages\\sklearn\\linear_model\\_stochastic_gradient.py:702: ConvergenceWarning: Maximum number of iteration reached before convergence. Consider increasing max_iter to improve the fit.\n",
      "  warnings.warn(\n",
      "c:\\Users\\gbhoa\\anaconda3\\envs\\uml_env\\lib\\site-packages\\sklearn\\linear_model\\_stochastic_gradient.py:702: ConvergenceWarning: Maximum number of iteration reached before convergence. Consider increasing max_iter to improve the fit.\n",
      "  warnings.warn(\n",
      "c:\\Users\\gbhoa\\anaconda3\\envs\\uml_env\\lib\\site-packages\\sklearn\\linear_model\\_stochastic_gradient.py:702: ConvergenceWarning: Maximum number of iteration reached before convergence. Consider increasing max_iter to improve the fit.\n",
      "  warnings.warn(\n",
      "c:\\Users\\gbhoa\\anaconda3\\envs\\uml_env\\lib\\site-packages\\sklearn\\linear_model\\_stochastic_gradient.py:702: ConvergenceWarning: Maximum number of iteration reached before convergence. Consider increasing max_iter to improve the fit.\n",
      "  warnings.warn(\n",
      "c:\\Users\\gbhoa\\anaconda3\\envs\\uml_env\\lib\\site-packages\\sklearn\\linear_model\\_stochastic_gradient.py:702: ConvergenceWarning: Maximum number of iteration reached before convergence. Consider increasing max_iter to improve the fit.\n",
      "  warnings.warn(\n",
      "c:\\Users\\gbhoa\\anaconda3\\envs\\uml_env\\lib\\site-packages\\sklearn\\linear_model\\_stochastic_gradient.py:702: ConvergenceWarning: Maximum number of iteration reached before convergence. Consider increasing max_iter to improve the fit.\n",
      "  warnings.warn(\n",
      "c:\\Users\\gbhoa\\anaconda3\\envs\\uml_env\\lib\\site-packages\\sklearn\\linear_model\\_stochastic_gradient.py:702: ConvergenceWarning: Maximum number of iteration reached before convergence. Consider increasing max_iter to improve the fit.\n",
      "  warnings.warn(\n",
      "c:\\Users\\gbhoa\\anaconda3\\envs\\uml_env\\lib\\site-packages\\sklearn\\linear_model\\_stochastic_gradient.py:702: ConvergenceWarning: Maximum number of iteration reached before convergence. Consider increasing max_iter to improve the fit.\n",
      "  warnings.warn(\n",
      "c:\\Users\\gbhoa\\anaconda3\\envs\\uml_env\\lib\\site-packages\\sklearn\\linear_model\\_stochastic_gradient.py:702: ConvergenceWarning: Maximum number of iteration reached before convergence. Consider increasing max_iter to improve the fit.\n",
      "  warnings.warn(\n",
      "c:\\Users\\gbhoa\\anaconda3\\envs\\uml_env\\lib\\site-packages\\sklearn\\linear_model\\_stochastic_gradient.py:702: ConvergenceWarning: Maximum number of iteration reached before convergence. Consider increasing max_iter to improve the fit.\n",
      "  warnings.warn(\n",
      "c:\\Users\\gbhoa\\anaconda3\\envs\\uml_env\\lib\\site-packages\\sklearn\\linear_model\\_stochastic_gradient.py:702: ConvergenceWarning: Maximum number of iteration reached before convergence. Consider increasing max_iter to improve the fit.\n",
      "  warnings.warn(\n",
      "c:\\Users\\gbhoa\\anaconda3\\envs\\uml_env\\lib\\site-packages\\sklearn\\linear_model\\_stochastic_gradient.py:702: ConvergenceWarning: Maximum number of iteration reached before convergence. Consider increasing max_iter to improve the fit.\n",
      "  warnings.warn(\n",
      "c:\\Users\\gbhoa\\anaconda3\\envs\\uml_env\\lib\\site-packages\\sklearn\\linear_model\\_stochastic_gradient.py:702: ConvergenceWarning: Maximum number of iteration reached before convergence. Consider increasing max_iter to improve the fit.\n",
      "  warnings.warn(\n",
      "c:\\Users\\gbhoa\\anaconda3\\envs\\uml_env\\lib\\site-packages\\sklearn\\linear_model\\_stochastic_gradient.py:702: ConvergenceWarning: Maximum number of iteration reached before convergence. Consider increasing max_iter to improve the fit.\n",
      "  warnings.warn(\n",
      "c:\\Users\\gbhoa\\anaconda3\\envs\\uml_env\\lib\\site-packages\\sklearn\\linear_model\\_stochastic_gradient.py:702: ConvergenceWarning: Maximum number of iteration reached before convergence. Consider increasing max_iter to improve the fit.\n",
      "  warnings.warn(\n",
      "c:\\Users\\gbhoa\\anaconda3\\envs\\uml_env\\lib\\site-packages\\sklearn\\linear_model\\_stochastic_gradient.py:702: ConvergenceWarning: Maximum number of iteration reached before convergence. Consider increasing max_iter to improve the fit.\n",
      "  warnings.warn(\n",
      "c:\\Users\\gbhoa\\anaconda3\\envs\\uml_env\\lib\\site-packages\\sklearn\\linear_model\\_stochastic_gradient.py:702: ConvergenceWarning: Maximum number of iteration reached before convergence. Consider increasing max_iter to improve the fit.\n",
      "  warnings.warn(\n",
      "c:\\Users\\gbhoa\\anaconda3\\envs\\uml_env\\lib\\site-packages\\sklearn\\linear_model\\_stochastic_gradient.py:702: ConvergenceWarning: Maximum number of iteration reached before convergence. Consider increasing max_iter to improve the fit.\n",
      "  warnings.warn(\n",
      "c:\\Users\\gbhoa\\anaconda3\\envs\\uml_env\\lib\\site-packages\\sklearn\\linear_model\\_stochastic_gradient.py:702: ConvergenceWarning: Maximum number of iteration reached before convergence. Consider increasing max_iter to improve the fit.\n",
      "  warnings.warn(\n",
      "c:\\Users\\gbhoa\\anaconda3\\envs\\uml_env\\lib\\site-packages\\sklearn\\linear_model\\_stochastic_gradient.py:702: ConvergenceWarning: Maximum number of iteration reached before convergence. Consider increasing max_iter to improve the fit.\n",
      "  warnings.warn(\n",
      "c:\\Users\\gbhoa\\anaconda3\\envs\\uml_env\\lib\\site-packages\\sklearn\\linear_model\\_stochastic_gradient.py:702: ConvergenceWarning: Maximum number of iteration reached before convergence. Consider increasing max_iter to improve the fit.\n",
      "  warnings.warn(\n",
      "c:\\Users\\gbhoa\\anaconda3\\envs\\uml_env\\lib\\site-packages\\sklearn\\linear_model\\_stochastic_gradient.py:702: ConvergenceWarning: Maximum number of iteration reached before convergence. Consider increasing max_iter to improve the fit.\n",
      "  warnings.warn(\n",
      "c:\\Users\\gbhoa\\anaconda3\\envs\\uml_env\\lib\\site-packages\\sklearn\\linear_model\\_stochastic_gradient.py:702: ConvergenceWarning: Maximum number of iteration reached before convergence. Consider increasing max_iter to improve the fit.\n",
      "  warnings.warn(\n",
      "c:\\Users\\gbhoa\\anaconda3\\envs\\uml_env\\lib\\site-packages\\sklearn\\linear_model\\_stochastic_gradient.py:702: ConvergenceWarning: Maximum number of iteration reached before convergence. Consider increasing max_iter to improve the fit.\n",
      "  warnings.warn(\n",
      "c:\\Users\\gbhoa\\anaconda3\\envs\\uml_env\\lib\\site-packages\\sklearn\\linear_model\\_stochastic_gradient.py:702: ConvergenceWarning: Maximum number of iteration reached before convergence. Consider increasing max_iter to improve the fit.\n",
      "  warnings.warn(\n",
      "c:\\Users\\gbhoa\\anaconda3\\envs\\uml_env\\lib\\site-packages\\sklearn\\linear_model\\_stochastic_gradient.py:702: ConvergenceWarning: Maximum number of iteration reached before convergence. Consider increasing max_iter to improve the fit.\n",
      "  warnings.warn(\n",
      "c:\\Users\\gbhoa\\anaconda3\\envs\\uml_env\\lib\\site-packages\\sklearn\\linear_model\\_stochastic_gradient.py:702: ConvergenceWarning: Maximum number of iteration reached before convergence. Consider increasing max_iter to improve the fit.\n",
      "  warnings.warn(\n",
      "c:\\Users\\gbhoa\\anaconda3\\envs\\uml_env\\lib\\site-packages\\sklearn\\linear_model\\_stochastic_gradient.py:702: ConvergenceWarning: Maximum number of iteration reached before convergence. Consider increasing max_iter to improve the fit.\n",
      "  warnings.warn(\n",
      "c:\\Users\\gbhoa\\anaconda3\\envs\\uml_env\\lib\\site-packages\\sklearn\\linear_model\\_stochastic_gradient.py:702: ConvergenceWarning: Maximum number of iteration reached before convergence. Consider increasing max_iter to improve the fit.\n",
      "  warnings.warn(\n",
      "c:\\Users\\gbhoa\\anaconda3\\envs\\uml_env\\lib\\site-packages\\sklearn\\linear_model\\_stochastic_gradient.py:702: ConvergenceWarning: Maximum number of iteration reached before convergence. Consider increasing max_iter to improve the fit.\n",
      "  warnings.warn(\n",
      "c:\\Users\\gbhoa\\anaconda3\\envs\\uml_env\\lib\\site-packages\\sklearn\\linear_model\\_stochastic_gradient.py:702: ConvergenceWarning: Maximum number of iteration reached before convergence. Consider increasing max_iter to improve the fit.\n",
      "  warnings.warn(\n",
      "c:\\Users\\gbhoa\\anaconda3\\envs\\uml_env\\lib\\site-packages\\sklearn\\linear_model\\_stochastic_gradient.py:702: ConvergenceWarning: Maximum number of iteration reached before convergence. Consider increasing max_iter to improve the fit.\n",
      "  warnings.warn(\n",
      "c:\\Users\\gbhoa\\anaconda3\\envs\\uml_env\\lib\\site-packages\\sklearn\\linear_model\\_stochastic_gradient.py:702: ConvergenceWarning: Maximum number of iteration reached before convergence. Consider increasing max_iter to improve the fit.\n",
      "  warnings.warn(\n",
      "c:\\Users\\gbhoa\\anaconda3\\envs\\uml_env\\lib\\site-packages\\sklearn\\linear_model\\_stochastic_gradient.py:702: ConvergenceWarning: Maximum number of iteration reached before convergence. Consider increasing max_iter to improve the fit.\n",
      "  warnings.warn(\n",
      "c:\\Users\\gbhoa\\anaconda3\\envs\\uml_env\\lib\\site-packages\\sklearn\\linear_model\\_stochastic_gradient.py:702: ConvergenceWarning: Maximum number of iteration reached before convergence. Consider increasing max_iter to improve the fit.\n",
      "  warnings.warn(\n",
      "c:\\Users\\gbhoa\\anaconda3\\envs\\uml_env\\lib\\site-packages\\sklearn\\linear_model\\_stochastic_gradient.py:702: ConvergenceWarning: Maximum number of iteration reached before convergence. Consider increasing max_iter to improve the fit.\n",
      "  warnings.warn(\n",
      "c:\\Users\\gbhoa\\anaconda3\\envs\\uml_env\\lib\\site-packages\\sklearn\\linear_model\\_stochastic_gradient.py:702: ConvergenceWarning: Maximum number of iteration reached before convergence. Consider increasing max_iter to improve the fit.\n",
      "  warnings.warn(\n",
      "c:\\Users\\gbhoa\\anaconda3\\envs\\uml_env\\lib\\site-packages\\sklearn\\linear_model\\_stochastic_gradient.py:702: ConvergenceWarning: Maximum number of iteration reached before convergence. Consider increasing max_iter to improve the fit.\n",
      "  warnings.warn(\n",
      "c:\\Users\\gbhoa\\anaconda3\\envs\\uml_env\\lib\\site-packages\\sklearn\\linear_model\\_stochastic_gradient.py:702: ConvergenceWarning: Maximum number of iteration reached before convergence. Consider increasing max_iter to improve the fit.\n",
      "  warnings.warn(\n",
      "c:\\Users\\gbhoa\\anaconda3\\envs\\uml_env\\lib\\site-packages\\sklearn\\linear_model\\_stochastic_gradient.py:702: ConvergenceWarning: Maximum number of iteration reached before convergence. Consider increasing max_iter to improve the fit.\n",
      "  warnings.warn(\n",
      "c:\\Users\\gbhoa\\anaconda3\\envs\\uml_env\\lib\\site-packages\\sklearn\\linear_model\\_stochastic_gradient.py:702: ConvergenceWarning: Maximum number of iteration reached before convergence. Consider increasing max_iter to improve the fit.\n",
      "  warnings.warn(\n",
      "c:\\Users\\gbhoa\\anaconda3\\envs\\uml_env\\lib\\site-packages\\sklearn\\linear_model\\_stochastic_gradient.py:702: ConvergenceWarning: Maximum number of iteration reached before convergence. Consider increasing max_iter to improve the fit.\n",
      "  warnings.warn(\n",
      "c:\\Users\\gbhoa\\anaconda3\\envs\\uml_env\\lib\\site-packages\\sklearn\\linear_model\\_stochastic_gradient.py:702: ConvergenceWarning: Maximum number of iteration reached before convergence. Consider increasing max_iter to improve the fit.\n",
      "  warnings.warn(\n",
      "c:\\Users\\gbhoa\\anaconda3\\envs\\uml_env\\lib\\site-packages\\sklearn\\linear_model\\_stochastic_gradient.py:702: ConvergenceWarning: Maximum number of iteration reached before convergence. Consider increasing max_iter to improve the fit.\n",
      "  warnings.warn(\n",
      "c:\\Users\\gbhoa\\anaconda3\\envs\\uml_env\\lib\\site-packages\\sklearn\\linear_model\\_stochastic_gradient.py:702: ConvergenceWarning: Maximum number of iteration reached before convergence. Consider increasing max_iter to improve the fit.\n",
      "  warnings.warn(\n",
      "c:\\Users\\gbhoa\\anaconda3\\envs\\uml_env\\lib\\site-packages\\sklearn\\linear_model\\_stochastic_gradient.py:702: ConvergenceWarning: Maximum number of iteration reached before convergence. Consider increasing max_iter to improve the fit.\n",
      "  warnings.warn(\n",
      "c:\\Users\\gbhoa\\anaconda3\\envs\\uml_env\\lib\\site-packages\\sklearn\\linear_model\\_stochastic_gradient.py:702: ConvergenceWarning: Maximum number of iteration reached before convergence. Consider increasing max_iter to improve the fit.\n",
      "  warnings.warn(\n",
      "c:\\Users\\gbhoa\\anaconda3\\envs\\uml_env\\lib\\site-packages\\sklearn\\linear_model\\_stochastic_gradient.py:702: ConvergenceWarning: Maximum number of iteration reached before convergence. Consider increasing max_iter to improve the fit.\n",
      "  warnings.warn(\n",
      "c:\\Users\\gbhoa\\anaconda3\\envs\\uml_env\\lib\\site-packages\\sklearn\\linear_model\\_stochastic_gradient.py:702: ConvergenceWarning: Maximum number of iteration reached before convergence. Consider increasing max_iter to improve the fit.\n",
      "  warnings.warn(\n",
      "c:\\Users\\gbhoa\\anaconda3\\envs\\uml_env\\lib\\site-packages\\sklearn\\linear_model\\_stochastic_gradient.py:702: ConvergenceWarning: Maximum number of iteration reached before convergence. Consider increasing max_iter to improve the fit.\n",
      "  warnings.warn(\n",
      "c:\\Users\\gbhoa\\anaconda3\\envs\\uml_env\\lib\\site-packages\\sklearn\\linear_model\\_stochastic_gradient.py:702: ConvergenceWarning: Maximum number of iteration reached before convergence. Consider increasing max_iter to improve the fit.\n",
      "  warnings.warn(\n",
      "c:\\Users\\gbhoa\\anaconda3\\envs\\uml_env\\lib\\site-packages\\sklearn\\linear_model\\_stochastic_gradient.py:702: ConvergenceWarning: Maximum number of iteration reached before convergence. Consider increasing max_iter to improve the fit.\n",
      "  warnings.warn(\n",
      "c:\\Users\\gbhoa\\anaconda3\\envs\\uml_env\\lib\\site-packages\\sklearn\\linear_model\\_stochastic_gradient.py:702: ConvergenceWarning: Maximum number of iteration reached before convergence. Consider increasing max_iter to improve the fit.\n",
      "  warnings.warn(\n",
      "c:\\Users\\gbhoa\\anaconda3\\envs\\uml_env\\lib\\site-packages\\sklearn\\linear_model\\_stochastic_gradient.py:702: ConvergenceWarning: Maximum number of iteration reached before convergence. Consider increasing max_iter to improve the fit.\n",
      "  warnings.warn(\n",
      "c:\\Users\\gbhoa\\anaconda3\\envs\\uml_env\\lib\\site-packages\\sklearn\\linear_model\\_stochastic_gradient.py:702: ConvergenceWarning: Maximum number of iteration reached before convergence. Consider increasing max_iter to improve the fit.\n",
      "  warnings.warn(\n",
      "c:\\Users\\gbhoa\\anaconda3\\envs\\uml_env\\lib\\site-packages\\sklearn\\linear_model\\_stochastic_gradient.py:702: ConvergenceWarning: Maximum number of iteration reached before convergence. Consider increasing max_iter to improve the fit.\n",
      "  warnings.warn(\n",
      "c:\\Users\\gbhoa\\anaconda3\\envs\\uml_env\\lib\\site-packages\\sklearn\\linear_model\\_stochastic_gradient.py:702: ConvergenceWarning: Maximum number of iteration reached before convergence. Consider increasing max_iter to improve the fit.\n",
      "  warnings.warn(\n",
      "c:\\Users\\gbhoa\\anaconda3\\envs\\uml_env\\lib\\site-packages\\sklearn\\linear_model\\_stochastic_gradient.py:702: ConvergenceWarning: Maximum number of iteration reached before convergence. Consider increasing max_iter to improve the fit.\n",
      "  warnings.warn(\n",
      "c:\\Users\\gbhoa\\anaconda3\\envs\\uml_env\\lib\\site-packages\\sklearn\\linear_model\\_stochastic_gradient.py:702: ConvergenceWarning: Maximum number of iteration reached before convergence. Consider increasing max_iter to improve the fit.\n",
      "  warnings.warn(\n",
      "c:\\Users\\gbhoa\\anaconda3\\envs\\uml_env\\lib\\site-packages\\sklearn\\linear_model\\_stochastic_gradient.py:702: ConvergenceWarning: Maximum number of iteration reached before convergence. Consider increasing max_iter to improve the fit.\n",
      "  warnings.warn(\n",
      "c:\\Users\\gbhoa\\anaconda3\\envs\\uml_env\\lib\\site-packages\\sklearn\\linear_model\\_stochastic_gradient.py:702: ConvergenceWarning: Maximum number of iteration reached before convergence. Consider increasing max_iter to improve the fit.\n",
      "  warnings.warn(\n",
      "c:\\Users\\gbhoa\\anaconda3\\envs\\uml_env\\lib\\site-packages\\sklearn\\linear_model\\_stochastic_gradient.py:702: ConvergenceWarning: Maximum number of iteration reached before convergence. Consider increasing max_iter to improve the fit.\n",
      "  warnings.warn(\n",
      "c:\\Users\\gbhoa\\anaconda3\\envs\\uml_env\\lib\\site-packages\\sklearn\\linear_model\\_stochastic_gradient.py:702: ConvergenceWarning: Maximum number of iteration reached before convergence. Consider increasing max_iter to improve the fit.\n",
      "  warnings.warn(\n",
      "c:\\Users\\gbhoa\\anaconda3\\envs\\uml_env\\lib\\site-packages\\sklearn\\linear_model\\_stochastic_gradient.py:702: ConvergenceWarning: Maximum number of iteration reached before convergence. Consider increasing max_iter to improve the fit.\n",
      "  warnings.warn(\n",
      "c:\\Users\\gbhoa\\anaconda3\\envs\\uml_env\\lib\\site-packages\\sklearn\\linear_model\\_stochastic_gradient.py:702: ConvergenceWarning: Maximum number of iteration reached before convergence. Consider increasing max_iter to improve the fit.\n",
      "  warnings.warn(\n",
      "c:\\Users\\gbhoa\\anaconda3\\envs\\uml_env\\lib\\site-packages\\sklearn\\linear_model\\_stochastic_gradient.py:702: ConvergenceWarning: Maximum number of iteration reached before convergence. Consider increasing max_iter to improve the fit.\n",
      "  warnings.warn(\n",
      "c:\\Users\\gbhoa\\anaconda3\\envs\\uml_env\\lib\\site-packages\\sklearn\\linear_model\\_stochastic_gradient.py:702: ConvergenceWarning: Maximum number of iteration reached before convergence. Consider increasing max_iter to improve the fit.\n",
      "  warnings.warn(\n",
      "c:\\Users\\gbhoa\\anaconda3\\envs\\uml_env\\lib\\site-packages\\sklearn\\linear_model\\_stochastic_gradient.py:702: ConvergenceWarning: Maximum number of iteration reached before convergence. Consider increasing max_iter to improve the fit.\n",
      "  warnings.warn(\n",
      "c:\\Users\\gbhoa\\anaconda3\\envs\\uml_env\\lib\\site-packages\\sklearn\\linear_model\\_stochastic_gradient.py:702: ConvergenceWarning: Maximum number of iteration reached before convergence. Consider increasing max_iter to improve the fit.\n",
      "  warnings.warn(\n",
      "c:\\Users\\gbhoa\\anaconda3\\envs\\uml_env\\lib\\site-packages\\sklearn\\linear_model\\_stochastic_gradient.py:702: ConvergenceWarning: Maximum number of iteration reached before convergence. Consider increasing max_iter to improve the fit.\n",
      "  warnings.warn(\n",
      "c:\\Users\\gbhoa\\anaconda3\\envs\\uml_env\\lib\\site-packages\\sklearn\\linear_model\\_stochastic_gradient.py:702: ConvergenceWarning: Maximum number of iteration reached before convergence. Consider increasing max_iter to improve the fit.\n",
      "  warnings.warn(\n",
      "c:\\Users\\gbhoa\\anaconda3\\envs\\uml_env\\lib\\site-packages\\sklearn\\linear_model\\_stochastic_gradient.py:702: ConvergenceWarning: Maximum number of iteration reached before convergence. Consider increasing max_iter to improve the fit.\n",
      "  warnings.warn(\n",
      "c:\\Users\\gbhoa\\anaconda3\\envs\\uml_env\\lib\\site-packages\\sklearn\\linear_model\\_stochastic_gradient.py:702: ConvergenceWarning: Maximum number of iteration reached before convergence. Consider increasing max_iter to improve the fit.\n",
      "  warnings.warn(\n",
      "c:\\Users\\gbhoa\\anaconda3\\envs\\uml_env\\lib\\site-packages\\sklearn\\linear_model\\_stochastic_gradient.py:702: ConvergenceWarning: Maximum number of iteration reached before convergence. Consider increasing max_iter to improve the fit.\n",
      "  warnings.warn(\n",
      "c:\\Users\\gbhoa\\anaconda3\\envs\\uml_env\\lib\\site-packages\\sklearn\\linear_model\\_stochastic_gradient.py:702: ConvergenceWarning: Maximum number of iteration reached before convergence. Consider increasing max_iter to improve the fit.\n",
      "  warnings.warn(\n",
      "c:\\Users\\gbhoa\\anaconda3\\envs\\uml_env\\lib\\site-packages\\sklearn\\linear_model\\_stochastic_gradient.py:702: ConvergenceWarning: Maximum number of iteration reached before convergence. Consider increasing max_iter to improve the fit.\n",
      "  warnings.warn(\n",
      "c:\\Users\\gbhoa\\anaconda3\\envs\\uml_env\\lib\\site-packages\\sklearn\\linear_model\\_stochastic_gradient.py:702: ConvergenceWarning: Maximum number of iteration reached before convergence. Consider increasing max_iter to improve the fit.\n",
      "  warnings.warn(\n",
      "c:\\Users\\gbhoa\\anaconda3\\envs\\uml_env\\lib\\site-packages\\sklearn\\linear_model\\_stochastic_gradient.py:702: ConvergenceWarning: Maximum number of iteration reached before convergence. Consider increasing max_iter to improve the fit.\n",
      "  warnings.warn(\n",
      "c:\\Users\\gbhoa\\anaconda3\\envs\\uml_env\\lib\\site-packages\\sklearn\\linear_model\\_stochastic_gradient.py:702: ConvergenceWarning: Maximum number of iteration reached before convergence. Consider increasing max_iter to improve the fit.\n",
      "  warnings.warn(\n",
      "c:\\Users\\gbhoa\\anaconda3\\envs\\uml_env\\lib\\site-packages\\sklearn\\linear_model\\_stochastic_gradient.py:702: ConvergenceWarning: Maximum number of iteration reached before convergence. Consider increasing max_iter to improve the fit.\n",
      "  warnings.warn(\n",
      "c:\\Users\\gbhoa\\anaconda3\\envs\\uml_env\\lib\\site-packages\\sklearn\\linear_model\\_stochastic_gradient.py:702: ConvergenceWarning: Maximum number of iteration reached before convergence. Consider increasing max_iter to improve the fit.\n",
      "  warnings.warn(\n",
      "c:\\Users\\gbhoa\\anaconda3\\envs\\uml_env\\lib\\site-packages\\sklearn\\linear_model\\_stochastic_gradient.py:702: ConvergenceWarning: Maximum number of iteration reached before convergence. Consider increasing max_iter to improve the fit.\n",
      "  warnings.warn(\n",
      "c:\\Users\\gbhoa\\anaconda3\\envs\\uml_env\\lib\\site-packages\\sklearn\\linear_model\\_stochastic_gradient.py:702: ConvergenceWarning: Maximum number of iteration reached before convergence. Consider increasing max_iter to improve the fit.\n",
      "  warnings.warn(\n",
      "c:\\Users\\gbhoa\\anaconda3\\envs\\uml_env\\lib\\site-packages\\sklearn\\linear_model\\_stochastic_gradient.py:702: ConvergenceWarning: Maximum number of iteration reached before convergence. Consider increasing max_iter to improve the fit.\n",
      "  warnings.warn(\n",
      "c:\\Users\\gbhoa\\anaconda3\\envs\\uml_env\\lib\\site-packages\\sklearn\\linear_model\\_stochastic_gradient.py:702: ConvergenceWarning: Maximum number of iteration reached before convergence. Consider increasing max_iter to improve the fit.\n",
      "  warnings.warn(\n",
      "c:\\Users\\gbhoa\\anaconda3\\envs\\uml_env\\lib\\site-packages\\sklearn\\linear_model\\_stochastic_gradient.py:702: ConvergenceWarning: Maximum number of iteration reached before convergence. Consider increasing max_iter to improve the fit.\n",
      "  warnings.warn(\n"
     ]
    },
    {
     "name": "stdout",
     "output_type": "stream",
     "text": [
      "sgd_best_parameters : {'sgd__alpha': 0.17, 'sgd__eta0': 0.13, 'sgd__learning_rate': 'constant', 'sgd__loss': 'log_loss', 'sgd__penalty': 'l2'}\n"
     ]
    }
   ],
   "source": [
    "from sklearn.linear_model import SGDClassifier\n",
    "\n",
    "# Put the pipeline with the appropriate model \n",
    "sgd_pl = Pipeline([\n",
    "    ('preprocessor', preproc_pl),\n",
    "    ('sgd', SGDClassifier())\n",
    "])\n",
    "\n",
    "# Use GridSearchCV with cv=5\n",
    "param_grid_sgd = {'sgd__loss': ['hinge', 'log_loss', 'modified_huber', 'squared_hinge', 'perceptron'],\n",
    "                  'sgd__penalty': ['l2', 'l1', 'elasticnet'],\n",
    "                  'sgd__alpha': [0.15, 0.16, 0.17],\n",
    "                  'sgd__learning_rate': ['constant', 'optimal', 'invscaling'],\n",
    "                  'sgd__eta0': [0.11, 0.12, 0.13]}\n",
    "\n",
    "sgd_model = GridSearchCV(sgd_pl, param_grid_sgd, cv=5,\n",
    "                     scoring=chosen_metric, return_train_score=True)\n",
    "\n",
    "sgd_model.fit(X_train, y_train)\n",
    "\n",
    "print(f'sgd_best_parameters : {sgd_model.best_params_}') \n",
    "\n",
    "# Return best parameters in a dictionary\n",
    "sgd_best_parameters = sgd_model.best_params_\n",
    "\n",
    "# The following code is used by the autograder.\n",
    "step13_data = sgd_model,sgd_best_parameters, sgd_pl"
   ]
  },
  {
   "cell_type": "markdown",
   "metadata": {},
   "source": [
    "**Step14** [2 points]\n",
    "\n",
    "Considering the previous results using **GridSearchCV** for each one of the main classifiers, retrieve the obtained score using the best parameters in each case. Also indicate which are the three **best** models. "
   ]
  },
  {
   "cell_type": "code",
   "execution_count": 20,
   "metadata": {},
   "outputs": [
    {
     "name": "stdout",
     "output_type": "stream",
     "text": [
      "0.9895023506478615 0.9731280816420137 0.9888869777930666 0.990115812406834\n"
     ]
    }
   ],
   "source": [
    "# Assign the best score for each model \n",
    "knn_best_cv_scoring = knn_model.best_score_\n",
    "dt_best_cv_scoring  = dt_model.best_score_\n",
    "svc_best_cv_scoring = svc_model.best_score_\n",
    "sgd_best_cv_scoring = sgd_model.best_score_\n",
    "\n",
    "print(knn_best_cv_scoring, dt_best_cv_scoring, svc_best_cv_scoring, sgd_best_cv_scoring)"
   ]
  },
  {
   "cell_type": "code",
   "execution_count": 21,
   "metadata": {
    "tags": []
   },
   "outputs": [],
   "source": [
    "'''\n",
    "What are the three best models so far? Assign a list of the three best models\n",
    "to the variable below (best to worst). The model options are \"knn\", \"dt\", \"svc\" or \"sgd\"\n",
    "'''\n",
    "best_models = ['sgd', 'knn', 'svc']\n",
    "\n",
    "# The following code is used by the autograder.\n",
    "step14_data = best_models,knn_best_cv_scoring,dt_best_cv_scoring,svc_best_cv_scoring,sgd_best_cv_scoring"
   ]
  },
  {
   "cell_type": "markdown",
   "metadata": {},
   "source": [
    "**Step15** [0 points]\n",
    "\n",
    "Once you have performed the search of the best parameters for each one of these models, you can display the general performance of each model using the next function **plot_compare_classifier_score**. An example plot using the function provided would look like the following:\n",
    "\n",
    "<center><img src=\"scoring_curves.jpg\" width=900 alt=\"Example loss curve plot\"></center>"
   ]
  },
  {
   "cell_type": "code",
   "execution_count": 22,
   "metadata": {
    "tags": []
   },
   "outputs": [],
   "source": [
    "# Function to check the performance of each parameter.\n",
    "def pooled_var(stds):\n",
    "    # https://en.wikipedia.org/wiki/Pooled_variance#Pooled_standard_deviation\n",
    "    n = 5 # size of each group\n",
    "    return np.sqrt(sum((n-1)*(stds**2))/ len(stds)*(n-1))\n",
    "\n",
    "# Function to create loss curves\n",
    "def plot_gridSearchCV_loss_curve(cv_results,grid_params,title):\n",
    "\n",
    "    df = pd.DataFrame(cv_results)\n",
    "    results = ['mean_test_score',\n",
    "               'mean_train_score',\n",
    "               'std_test_score',\n",
    "               'std_train_score']\n",
    "\n",
    "\n",
    "    fig, axes = plt.subplots(1, len(grid_params),\n",
    "                             figsize = (5*len(grid_params), 7),\n",
    "                             sharey='row')\n",
    "    axes[0].set_ylabel(\"Score\", fontsize=25)\n",
    "\n",
    "\n",
    "    for idx, (param_name, param_range) in enumerate(grid_params.items()):\n",
    "        grouped_df = df.groupby(f'param_{param_name}')[results]\\\n",
    "            .agg({'mean_train_score': 'mean',\n",
    "                  'mean_test_score': 'mean',\n",
    "                  'std_train_score': pooled_var,\n",
    "                  'std_test_score': pooled_var})\n",
    "\n",
    "        previous_group = df.groupby(f'param_{param_name}')[results]\n",
    "        axes[idx].set_xlabel(param_name, fontsize=30)\n",
    "        axes[idx].set_ylim(0.0, 1.1)\n",
    "        lw = 2\n",
    "        axes[idx].plot(param_range, grouped_df['mean_train_score'], label=\"Training score\",\n",
    "                    color=\"darkorange\", lw=lw)\n",
    "        axes[idx].fill_between(param_range,grouped_df['mean_train_score'] - grouped_df['std_train_score'],\n",
    "                        grouped_df['mean_train_score'] + grouped_df['std_train_score'], alpha=0.2,\n",
    "                        color=\"darkorange\", lw=lw)\n",
    "        axes[idx].plot(param_range, grouped_df['mean_test_score'], label=\"Cross-validation score\",\n",
    "                    color=\"navy\", lw=lw)\n",
    "        axes[idx].fill_between(param_range, grouped_df['mean_test_score'] - grouped_df['std_test_score'],\n",
    "                        grouped_df['mean_test_score'] + grouped_df['std_test_score'], alpha=0.2,\n",
    "                        color=\"navy\", lw=lw)\n",
    "\n",
    "    handles, labels = axes[0].get_legend_handles_labels()\n",
    "    fig.suptitle(f'{title} Validation curves', fontsize=30)\n",
    "    fig.legend(handles, labels, loc=8, ncol=2, fontsize=20)\n",
    "\n",
    "    fig.subplots_adjust(bottom=0.25, top=0.85)\n",
    "    plt.show()\n",
    "    \n",
    "# Check the performance for each model (knn, dt, svc and sgd). Use plot_gridSearchCV_loss_curve() function.\n",
    "# plot_gridSearchCV_loss_curve(knn_model.cv_results_, param_grid_knn, \"KNN\")\n",
    "# plot_gridSearchCV_loss_curve(dt_model.cv_results_, param_grid_dt, \"DT\")\n",
    "# plot_gridSearchCV_loss_curve(svc_model.cv_results_, param_grid_svc, \"SVC\")\n",
    "# plot_gridSearchCV_loss_curve(sgd_model.cv_results_, param_grid_sgd, \"SGD\")\n",
    "\n"
   ]
  },
  {
   "cell_type": "markdown",
   "metadata": {},
   "source": [
    "**Step16** [3 points]\n",
    "\n",
    "Having identified the best three models in Step 14, train them using their best parameters on the training data, and then make predictions on the validation set. Finally, calculate and display the following metrics for each case:\n",
    "\n",
    "* recall\n",
    "* precision\n",
    "* auc score\n",
    "* f1 score\n",
    "\n",
    "***HINT:*** Use the function you have created in Step5 to obtain the above metrics for each model."
   ]
  },
  {
   "cell_type": "code",
   "execution_count": 23,
   "metadata": {},
   "outputs": [
    {
     "name": "stdout",
     "output_type": "stream",
     "text": [
      "{'sgd__alpha': 0.17, 'sgd__eta0': 0.13, 'sgd__learning_rate': 'constant', 'sgd__loss': 'log_loss', 'sgd__penalty': 'l2'}\n",
      "{'knn__algorithm': 'ball_tree', 'knn__metric': 'manhattan', 'knn__n_neighbors': 8, 'knn__p': 1, 'knn__weights': 'distance'}\n",
      "{'svc__C': 1, 'svc__gamma': 'scale', 'svc__kernel': 'rbf'}\n"
     ]
    }
   ],
   "source": [
    "print(sgd_model.best_params_)\n",
    "print(knn_model.best_params_)\n",
    "print(svc_model.best_params_)"
   ]
  },
  {
   "cell_type": "code",
   "execution_count": 24,
   "metadata": {},
   "outputs": [],
   "source": [
    "# Train the three best model\n",
    "sgd_best = Pipeline([\n",
    "    ('preprocessor', preproc_pl),\n",
    "    ('sgd', SGDClassifier(alpha=0.16, eta0=0.11, learning_rate='optimal', loss='modified_huber', penalty='l1'))\n",
    "])\n",
    "\n",
    "knn_best = Pipeline([\n",
    "    ('preprocessor', preproc_pl),\n",
    "    ('knn', KNeighborsClassifier(algorithm='ball_tree', metric='manhattan', n_neighbors=8, p=1, weights='distance'))\n",
    "])\n",
    "\n",
    "svc_best = Pipeline([\n",
    "    ('preprocessor', preproc_pl),\n",
    "    ('svc', SVC(C=1, gamma='scale', kernel='rbf'))\n",
    "])\n",
    "\n",
    "'''\n",
    "Assign the predictions made by each model to the variables below.\n",
    "'''\n",
    "sgd_best.fit(X_train, y_train)\n",
    "knn_best.fit(X_train, y_train)\n",
    "svc_best.fit(X_train, y_train)\n",
    "\n",
    "predictions_model1 = sgd_best.predict(X_val)\n",
    "predictions_model2 = knn_best.predict(X_val)\n",
    "precictions_model3 = svc_best.predict(X_val)"
   ]
  },
  {
   "cell_type": "code",
   "execution_count": 25,
   "metadata": {
    "tags": []
   },
   "outputs": [],
   "source": [
    "'''\n",
    "HINT: Use the function you have created in Step5. The function returns a tuple\n",
    "containing the metrics.\n",
    "'''\n",
    "metrics_model1 = calculate_metrics(y_val, predictions_model1)\n",
    "metrics_model2 = calculate_metrics(y_val, predictions_model2)\n",
    "metrics_model3 = calculate_metrics(y_val, precictions_model3)\n",
    "\n",
    "# The following code is used by the autograder.\n",
    "step16_data = [(predictions_model1, predictions_model2, precictions_model3),(metrics_model1, metrics_model2, metrics_model3)]"
   ]
  },
  {
   "cell_type": "code",
   "execution_count": 26,
   "metadata": {},
   "outputs": [
    {
     "name": "stdout",
     "output_type": "stream",
     "text": [
      "(0.8620689655172413, 1.0, 0.9310344827586207, 0.9259259259259259)\n",
      "(0.9310344827586207, 1.0, 0.9655172413793103, 0.9642857142857143)\n",
      "(0.896551724137931, 0.9629629629629629, 0.932146829810901, 0.9285714285714286)\n"
     ]
    }
   ],
   "source": [
    "# recall, precision, auc, f1\n",
    "print(metrics_model1)\n",
    "print(metrics_model2)\n",
    "print(metrics_model3)"
   ]
  },
  {
   "cell_type": "markdown",
   "metadata": {},
   "source": [
    "**Step17** [4 points]\n",
    "\n",
    "**Final performance**\n",
    "\n",
    "Choose the best model of the top 3 you obtained in **Step14**. Calculate and display an unbiased performance measure that you can present to the client."
   ]
  },
  {
   "cell_type": "code",
   "execution_count": 55,
   "metadata": {
    "tags": []
   },
   "outputs": [],
   "source": [
    "'''\n",
    "Assign the training features, training labels that you would use for this step to the variables\n",
    "below.\n",
    "'''\n",
    "X_train_final = bigtrain_set.iloc[:, 1:]\n",
    "y_train_final = bigtrain_set.iloc[:, 0]\n",
    "\n",
    "# Assign the best model to the variable below and train it\n",
    "final_model = Pipeline([\n",
    "    ('preprocessor', preproc_pl),\n",
    "    ('knn', KNeighborsClassifier(algorithm='ball_tree', metric='manhattan', n_neighbors=8, p=1, weights='distance'))\n",
    "])\n",
    "final_model.fit(X_train_final, y_train_final)\n",
    "\n",
    "# Assign the predictions made from your chosen best model for the unbiased estimate to the variable below.\n",
    "predictions_final_model = final_model.predict(X_test)\n",
    "\n",
    "# Choose a performance metric based on the client's requirement and assign the result to the variable below.\n",
    "chosen_performance_metric_result = roc_auc_score(y_test, predictions_final_model)\n",
    "\n",
    "# The following code is used by the autograder\n",
    "step17_data = (predictions_final_model, chosen_performance_metric_result, X_train_final, y_train_final,final_model)"
   ]
  },
  {
   "cell_type": "code",
   "execution_count": 28,
   "metadata": {},
   "outputs": [
    {
     "name": "stdout",
     "output_type": "stream",
     "text": [
      "0.932146829810901\n"
     ]
    }
   ],
   "source": [
    "print(chosen_performance_metric_result)"
   ]
  },
  {
   "cell_type": "markdown",
   "metadata": {},
   "source": [
    "**Step18** [3 points]\n",
    "\n",
    "**Rank features**\n",
    "\n",
    "Although it is only possible to know the true usefulness of a feature when you've combined it with others in a machine learning method, it is still helpful to have some measure for how discriminative each feature is on its own.  One common method for doing this is to calculate a *T-score* (often used in statistics, and in the **LDA** machine learning method) for each feature. The formula for the *T-score* is \n",
    "\n",
    "$$\n",
    "  T_{score} =  \\frac{(mean(x_{2}) - mean(x_{1}))}{0.5(stddev(x_{2}) + stddev(x_{1}))}\n",
    "$$\n",
    "\n",
    "where $x_{1}$ and $x_{2}$ are the datasets corresponding to the two classes. Large values for the *T-score* (either positive or negative) indicate discriminative ability. Define a function which returns this *T-score*. For this process use the entire dataset.\n",
    "\n",
    "**Using the defined function, calculate the *T-score* for each feature and obtain the best 4 features according to this score.**"
   ]
  },
  {
   "cell_type": "code",
   "execution_count": 29,
   "metadata": {},
   "outputs": [
    {
     "name": "stdout",
     "output_type": "stream",
     "text": [
      "{'worst concave points': -2.495528853810555, 'worst perimeter': -2.4814395467315733, 'worst radius': -2.418995524549576, 'mean concave points': -2.2369776759406075, 'worst area': -2.2344434981169043, 'mean perimeter': -2.089339061331773, 'mean radius': -2.009948574594551, 'mean area': -1.9290508959212675, 'mean concavity': -1.6142051887880298, 'worst concavity': -1.5911984303710187, 'worst compactness': -1.503649841836972, 'mean compactness': -1.430384205476863, 'area error': -1.410309074824269, 'perimeter error': -1.3030191610338049, 'radius error': -1.2807617137167857, 'worst texture': -1.189235329203478, 'mean texture': -1.0894469142315608, 'worst smoothness': -0.9698666062380195, 'worst symmetry': -0.9549747572295688, 'worst fractal dimension': -0.7620267894247168, 'mean smoothness': -0.7449476389951291, 'concave points error': -0.6701013526730875, 'mean symmetry': -0.6437206939768972, 'compactness error': -0.509040369349143, 'concavity error': -0.3372121419150813, 'smoothness error': 0.18979536323296795, 'symmetry error': 0.12350146054177356, 'texture error': 0.09268045856787899, 'fractal dimension error': -0.062487765503678516, 'mean fractal dimension': -0.01136536590369952}\n"
     ]
    }
   ],
   "source": [
    "# Implement this function to calculate T score\n",
    "def calculate_t_score(x1, x2):\n",
    "    t_scores = {}\n",
    "    for feature in x1.columns:\n",
    "        mu1 = np.mean(x1[feature])\n",
    "        mu2 = np.mean(x2[feature])\n",
    "\n",
    "        std1 = np.std(x1[feature])\n",
    "        std2 = np.std(x2[feature])\n",
    "\n",
    "        t_scores[feature] = (mu2 - mu1) / (0.5*(std2 + std1))\n",
    "\n",
    "    sorted_t_scores = {k: v for k, v in sorted(t_scores.items(), key=lambda item: abs(item[1]), reverse=True)}\n",
    "    return sorted_t_scores\n",
    "\n",
    "# Split the training data into two datasets corresponding to the two classes\n",
    "x1 = data[data['label'] == 1].iloc[:, 1:]\n",
    "x2 = data[data['label'] == 0].iloc[:, 1:]\n",
    "\n",
    "# Calculate the T score for the feature\n",
    "t_scores = calculate_t_score(x1, x2)\n",
    "print(t_scores)"
   ]
  },
  {
   "cell_type": "code",
   "execution_count": 30,
   "metadata": {
    "tags": []
   },
   "outputs": [],
   "source": [
    "# Assign the top 4 features (in order) to this variable. It should be a list containing 4 feature names (strings).\n",
    "best_four_features = ['worst concave points', 'worst perimeter', 'worst radius', 'mean concave points']\n",
    "\n",
    "# The following code is used by the autograder.\n",
    "step18_data = best_four_features.copy()"
   ]
  },
  {
   "cell_type": "markdown",
   "metadata": {},
   "source": [
    "**Step19 [2 points]**\n",
    "\n",
    "You can visualize the results given by your model using a decision boundary. For this step, use the best two features (based on the previos step) and create a decision boundary plot. For this, use the best model obtained from Step17. The visualization of decision boundaries should be done using `DecisionBoundaryDisplay` from sklearn.inspection."
   ]
  },
  {
   "cell_type": "code",
   "execution_count": 31,
   "metadata": {
    "tags": []
   },
   "outputs": [],
   "source": [
    "# comment out the following line before uploading to gradescope\n",
    "# from sklearn.inspection import DecisionBoundaryDisplay\n",
    "\n",
    "# Assign the name of the best feature obtained in step18 to the variable below. (string)\n",
    "feature_one = 'worst concave points'\n",
    "\n",
    "# Assign the name of the second best feature obtained in step18 to the variable below. (string)\n",
    "feature_two = 'worst perimeter'\n",
    "\n",
    "# Assign the training dataset that you would want to use for this step to the variable below\n",
    "data2d = X_train[[feature_one, feature_two]]\n",
    "\n",
    "'''\n",
    "Check the decumentation of DecisionBoundaryDisplay in sklearn from \n",
    "https://scikit-learn.org/stable/modules/generated/sklearn.inspection.DecisionBoundaryDisplay.html.\n",
    "\n",
    "Use DecisionBoundaryDisplay.from_estimator(...) and assign the instance to the variable\n",
    "below.\n",
    "\n",
    "comment out the call to DecisionBoundaryDisplay.from_estimator(...) and all the ploting lines before uploading to gradescope.\n",
    "'''\n",
    "\n",
    "# final_model.fit(data2d, y_train)\n",
    "# disp_step19 = DecisionBoundaryDisplay.from_estimator(final_model, data2d)\n",
    "\n",
    "# # Plotting the data points. Use this to create the scatter plot\n",
    "# disp_step19.ax_.scatter(X_train[feature_one], X_train[feature_two],\n",
    "#                         c=y_train, edgecolor=\"k\",\n",
    "#                         cmap=plt.cm.coolwarm)\n",
    "# plt.xlim(-0.3, 0.3)\n",
    "# plt.title(f\"Decision surface for tree trained on {feature_one} and {feature_two}\")\n",
    "# plt.show()\n",
    "\n",
    "# The following line of code is used by the autograder\n",
    "step19_data = feature_one, feature_two, data2d"
   ]
  },
  {
   "attachments": {},
   "cell_type": "markdown",
   "metadata": {},
   "source": [
    "## Second Round\n",
    "\n",
    "After presenting your initial results to the client they come back to you and say that they have done some financial analysis and it would save them a lot of time and money if they did not have to analyse every cell, which is needed to get the \"worst\" features. Instead, they can quickly get accurate estimates for the \"mean\" and \"standard error\" features from a much smaller, randomly selected set of cells.\n",
    "\n",
    "They ask you to **give them a performance estimate for the same problem, but without using any of the \"worst\" features.**"
   ]
  },
  {
   "cell_type": "markdown",
   "metadata": {},
   "source": [
    "**Step20** [2 points]\n",
    "\n",
    "Create a new dataset according to the specifications of the client in round 2. After that, split the data appropriately."
   ]
  },
  {
   "cell_type": "code",
   "execution_count": 34,
   "metadata": {},
   "outputs": [],
   "source": [
    "data_r2 = data.drop(columns=worst_group.columns)"
   ]
  },
  {
   "cell_type": "code",
   "execution_count": 36,
   "metadata": {},
   "outputs": [
    {
     "name": "stdout",
     "output_type": "stream",
     "text": [
      "<class 'pandas.core.frame.DataFrame'>\n",
      "RangeIndex: 300 entries, 0 to 299\n",
      "Data columns (total 21 columns):\n",
      " #   Column                   Non-Null Count  Dtype  \n",
      "---  ------                   --------------  -----  \n",
      " 0   label                    300 non-null    int64  \n",
      " 1   mean radius              300 non-null    float64\n",
      " 2   mean texture             300 non-null    float64\n",
      " 3   mean perimeter           300 non-null    float64\n",
      " 4   mean area                300 non-null    float64\n",
      " 5   mean smoothness          300 non-null    float64\n",
      " 6   mean compactness         300 non-null    float64\n",
      " 7   mean concavity           300 non-null    float64\n",
      " 8   mean concave points      300 non-null    float64\n",
      " 9   mean symmetry            300 non-null    float64\n",
      " 10  mean fractal dimension   300 non-null    float64\n",
      " 11  radius error             300 non-null    float64\n",
      " 12  texture error            300 non-null    float64\n",
      " 13  perimeter error          300 non-null    float64\n",
      " 14  area error               300 non-null    float64\n",
      " 15  smoothness error         300 non-null    float64\n",
      " 16  compactness error        300 non-null    float64\n",
      " 17  concavity error          300 non-null    float64\n",
      " 18  concave points error     300 non-null    float64\n",
      " 19  symmetry error           300 non-null    float64\n",
      " 20  fractal dimension error  300 non-null    float64\n",
      "dtypes: float64(20), int64(1)\n",
      "memory usage: 49.3 KB\n"
     ]
    }
   ],
   "source": [
    "data_r2.info()"
   ]
  },
  {
   "cell_type": "code",
   "execution_count": 37,
   "metadata": {
    "tags": []
   },
   "outputs": [
    {
     "name": "stdout",
     "output_type": "stream",
     "text": [
      "Training set size (second round): 180\n",
      "Validation set size (second round): 60\n",
      "Test set size (second round): 60\n"
     ]
    }
   ],
   "source": [
    "data_r2 = data.drop(columns=worst_group.columns)\n",
    "\n",
    "# Assign the data to each variable appropriately\n",
    "bigtrain_set_r2, test_set_r2 = train_test_split(data_r2, test_size=0.2, random_state = 42, stratify=data_r2['label'])\n",
    "train_set_r2, val_set_r2 = train_test_split(bigtrain_set_r2, test_size=0.25, random_state=42, stratify=bigtrain_set_r2['label'])\n",
    "\n",
    "X_train_r2 = train_set_r2.iloc[:,1:]\n",
    "y_train_r2 = train_set_r2.iloc[:,0]\n",
    "X_test_r2 = test_set_r2.iloc[:,1:]\n",
    "y_test_r2 = test_set_r2.iloc[:,0]\n",
    "X_val_r2 = val_set_r2.iloc[:,1:]\n",
    "y_val_r2 = val_set_r2.iloc[:,0]\n",
    "\n",
    "# Print the size of each resulting subset\n",
    "print(\"Training set size (second round):\", len(X_train_r2))\n",
    "print(\"Validation set size (second round):\", len(X_val_r2))\n",
    "print(\"Test set size (second round):\", len(X_test_r2))\n",
    "\n",
    "# The following code is used by the autograder\n",
    "step20_data = [X_train_r2.shape, X_val_r2.shape, X_test_r2.shape]"
   ]
  },
  {
   "cell_type": "markdown",
   "metadata": {},
   "source": [
    "**Step21** [3 points]\n",
    "\n",
    "Train the best model obtained in the first round on the new dataset and find the best parameters."
   ]
  },
  {
   "cell_type": "code",
   "execution_count": 38,
   "metadata": {
    "tags": []
   },
   "outputs": [
    {
     "name": "stdout",
     "output_type": "stream",
     "text": [
      "best_parameters_r2: {'knn__algorithm': 'ball_tree', 'knn__metric': 'euclidean', 'knn__n_neighbors': 6, 'knn__p': 1, 'knn__weights': 'distance'}\n"
     ]
    }
   ],
   "source": [
    "# Assign the GridSearchCV instance you have obtained in this step to the variable below.\n",
    "param_grid_knn_r2 = {'knn__n_neighbors':[6, 7, 8], \n",
    "                  'knn__weights':['uniform', 'distance'],\n",
    "                  'knn__algorithm':['ball_tree', 'kd_tree', 'brute'],\n",
    "                  'knn__metric':['euclidean', 'manhattan', 'minkowski'],\n",
    "                  'knn__p':[1, 2, 3]}\n",
    "\n",
    "final_model_r2 = GridSearchCV(knn_pl, param_grid_knn_r2, cv=5,\n",
    "                     scoring=chosen_metric, return_train_score=True)\n",
    "\n",
    "final_model_r2.fit(X_train_r2, y_train_r2)\n",
    "\n",
    "print(f'best_parameters_r2: {final_model_r2.best_params_}')\n",
    "\n",
    "# Assign the best parameter dictionary to the variable below.\n",
    "best_parameters_r2 = final_model_r2.best_params_\n",
    "\n",
    "# The following code is used by the autograder.\n",
    "step21_data = final_model_r2, best_parameters_r2"
   ]
  },
  {
   "cell_type": "markdown",
   "metadata": {},
   "source": [
    "**Step22** [3 points]\n",
    "\n",
    "Considering the best parameters identified in the previous step, train your best model using those parameters and calculate and display an unbiased performance measure."
   ]
  },
  {
   "cell_type": "code",
   "execution_count": 66,
   "metadata": {
    "tags": []
   },
   "outputs": [],
   "source": [
    "'''\n",
    "Assign the training features, training labels that you would use for this step to the variables\n",
    "below.\n",
    "''' \n",
    "X_train_final_r2 = bigtrain_set_r2.iloc[:,1:]\n",
    "y_train_final_r2 = bigtrain_set_r2.iloc[:,0]\n",
    "\n",
    "# Assign the best model you have trained again in order to get an unbiased performance estimate.\n",
    "final_model_r2 = Pipeline([\n",
    "    ('preprocessor', preproc_pl),\n",
    "    ('knn', KNeighborsClassifier(algorithm='ball_tree', metric='euclidean', n_neighbors=6, p=1, weights='distance'))\n",
    "])\n",
    "final_model_r2.fit(X_train_final_r2, y_train_final_r2)\n",
    "\n",
    "# Assign the predictions made from your chosen best model for the unbiased estimate to the variable below.\n",
    "predictions_final_model_r2 = final_model_r2.predict(X_test_r2)\n",
    "\n",
    "# Choose a performance metric based on the client's requirement and assign the result to the variable below.\n",
    "performance_metric_result_r2 = roc_auc_score(y_test_r2, predictions_final_model_r2)\n",
    "\n",
    "# The following code is used by the autograder\n",
    "step22_data = (predictions_final_model_r2, performance_metric_result_r2,X_train_final_r2, y_train_final_r2,final_model_r2)"
   ]
  },
  {
   "cell_type": "code",
   "execution_count": 67,
   "metadata": {},
   "outputs": [
    {
     "name": "stdout",
     "output_type": "stream",
     "text": [
      "0.9493882091212459\n"
     ]
    }
   ],
   "source": [
    "print(performance_metric_result_r2)"
   ]
  },
  {
   "cell_type": "markdown",
   "metadata": {},
   "source": [
    "**Step23** [2 points]\n",
    "\n",
    "For this step you need to compare the final performance obtained in round 1 with the performance given in round 2. Don't run your models again, use the results from step17 and step22."
   ]
  },
  {
   "cell_type": "code",
   "execution_count": 70,
   "metadata": {
    "tags": []
   },
   "outputs": [],
   "source": [
    "# Final performance for 2nd round\n",
    "final_performance_r1 = chosen_performance_metric_result\n",
    "\n",
    "# Final performance for 2nd round\n",
    "final_performance_r2 = performance_metric_result_r2\n",
    "\n",
    "# What is your best model, \"r1\" or \"r2\". Put your answer in the variable final_answer (example: final_answer = \"r2\")\n",
    "final_answer = \"r1\" if final_performance_r1 >= final_performance_r2 else \"r2\"\n",
    "\n",
    "# The following code is used by the autograder\n",
    "step23_data = (final_performance_r1, final_performance_r2, final_answer)"
   ]
  },
  {
   "cell_type": "code",
   "execution_count": 71,
   "metadata": {},
   "outputs": [
    {
     "name": "stdout",
     "output_type": "stream",
     "text": [
      "(0.932146829810901, 0.9493882091212459, 'r2')\n"
     ]
    }
   ],
   "source": [
    "print(step23_data)"
   ]
  },
  {
   "cell_type": "markdown",
   "metadata": {},
   "source": [
    "**Step24** [3 points]\n",
    "\n",
    "Once you have gone through the rigorous process of testing and evaluating different models with various parameters and in diverse circumstances, you now have a robust model capable of generalizing well to unseen data.\n",
    "\n",
    "The client has provided data about a new patient in a table format, and is expecting you to make a prediction about the person's condition as soon as possible. The following table contains the information provided by the client.\n",
    "\n",
    "| Characteristic | Value |\n",
    "| --- | --- |\n",
    "| mean radius |13.970546 | \n",
    "| mean texture|15.660529 | \n",
    "| mean perimeter | 91.432976| \n",
    "| mean area |600.575775 | \n",
    "| mean smoothness |0.099883 | \n",
    "| mean compactness | NaN| \n",
    "| mean concavity | 0.07505| \n",
    "| mean concave points | 0.023223| \n",
    "| mean symmetry | 0.186472| \n",
    "| mean fractal dimension | 0.05446|\n",
    "| radius error | 0.321022 | \n",
    "| texture error |1.044633 | \n",
    "| perimeter error |2.324773 | \n",
    "| area error |31.333479 | \n",
    "| smoothness error | 0.005675| \n",
    "| compactness error |0.023401 | \n",
    "| concavity error |0.026742 | \n",
    "| concave points error |0.009808 | \n",
    "| symmetry error | 0.029254| \n",
    "| fractal dimension error |0.00325 |\n",
    "| worst radius |12.728135 | \n",
    "| worst texture | 23.476671| \n",
    "| worst perimeter |103.834522 | \n",
    "| worst area | 798.832368| \n",
    "| worst smoothness |0.130751 | \n",
    "| worst compactness |0.264469 | \n",
    "| worst concavity |0.247665 | \n",
    "| worst concave points | 0.100153| \n",
    "| worst symmetry |0.301228 | \n",
    "| worst fractal dimension |0.083051 |  \n",
    "\n",
    "Your goal is to inform the client whether the sample corresponds to a benign or malignant case. Provide the class and also the probability that the sample belongs to the malignant class.\n",
    "\n",
    "Note: If your best model corresponds to SGD using loss='perceptron', you can use decision_function instead of predict_proba to obtain the confidence score for your sample instead of the probability of belonging to the malignant class. Refer to the documentation of SGDClassifier for more information on this case."
   ]
  },
  {
   "cell_type": "code",
   "execution_count": 72,
   "metadata": {},
   "outputs": [
    {
     "name": "stdout",
     "output_type": "stream",
     "text": [
      "   mean radius  mean texture  mean perimeter   mean area  mean smoothness  \\\n",
      "0    13.970546     15.660529       91.432976  600.575775         0.099883   \n",
      "\n",
      "   mean compactness  mean concavity  mean concave points  mean symmetry  \\\n",
      "0               NaN         0.07505             0.023223       0.186472   \n",
      "\n",
      "   mean fractal dimension  radius error  texture error  perimeter error  \\\n",
      "0                 0.05446      0.321022       1.044633         2.324773   \n",
      "\n",
      "   area error  smoothness error  compactness error  concavity error  \\\n",
      "0   31.333479          0.005675           0.023401         0.026742   \n",
      "\n",
      "   concave points error  symmetry error  fractal dimension error  \n",
      "0              0.009808        0.029254                  0.00325  \n"
     ]
    }
   ],
   "source": [
    "# Put your new data in form of a dataframe\n",
    "new_data = {'mean radius': [13.970546],\n",
    "            'mean texture': [15.660529],\n",
    "            'mean perimeter': [91.432976],\n",
    "            'mean area': [600.575775],\n",
    "            'mean smoothness': [0.099883],\n",
    "            'mean compactness': [np.nan],\n",
    "            'mean concavity': [0.07505],\n",
    "            'mean concave points': [0.023223],\n",
    "            'mean symmetry': [0.186472],\n",
    "            'mean fractal dimension': [0.05446],\n",
    "            'radius error': [0.321022],\n",
    "            'texture error': [1.044633],\n",
    "            'perimeter error': [2.324773],\n",
    "            'area error': [31.333479],\n",
    "            'smoothness error': [0.005675],\n",
    "            'compactness error': [0.023401],\n",
    "            'concavity error': [0.026742],\n",
    "            'concave points error': [0.009808],\n",
    "            'symmetry error': [0.029254],\n",
    "            'fractal dimension error': [0.00325]}\n",
    "            # 'worst radius': [12.728135],\n",
    "            # 'worst texture': [23.476671],\n",
    "            # 'worst perimeter': [103.834522],\n",
    "            # 'worst area': [798.832368],\n",
    "            # 'worst smoothness': [0.130751],\n",
    "            # 'worst compactness': [0.264469],\n",
    "            # 'worst concavity': [0.247665],\n",
    "            # 'worst concave points': [0.100153],\n",
    "            # 'worst symmetry': [0.301228],\n",
    "            # 'worst fractal dimension': [0.083051]}\n",
    "new_sample = pd.DataFrame(new_data)\n",
    "\n",
    "# Print the data\n",
    "print(new_sample)"
   ]
  },
  {
   "cell_type": "code",
   "execution_count": 73,
   "metadata": {
    "tags": []
   },
   "outputs": [
    {
     "name": "stdout",
     "output_type": "stream",
     "text": [
      "The class for this sample is  benign\n",
      "The probability / confidence score of belonging to malignant class is  0.0\n"
     ]
    }
   ],
   "source": [
    "# Prediction of the class. You need to say if the sample is bening or malignant (\"malignant\" or \"benign\")\n",
    "prediction_sample = \"maligent\" if final_model_r2.predict(new_sample) else \"benign\"\n",
    "\n",
    "# Probability or confidence score of the sample belonging to the malignant class\n",
    "probability_sample = final_model_r2.predict_proba(new_sample)[:, 1][0]\n",
    "\n",
    "# Print your results\n",
    "print(\"The class for this sample is \", prediction_sample)\n",
    "\n",
    "# NOTE: in the case of SGD, Confidence score values will not be bounded within 0 and 1.\n",
    "print(\"The probability / confidence score of belonging to malignant class is \", probability_sample)\n",
    "\n",
    "# The following code is used by the autograder\n",
    "step24_data = (new_sample,prediction_sample, probability_sample)"
   ]
  }
 ],
 "metadata": {
  "kernelspec": {
   "display_name": "Python 3 (ipykernel)",
   "language": "python",
   "name": "python3"
  },
  "language_info": {
   "codemirror_mode": {
    "name": "ipython",
    "version": 3
   },
   "file_extension": ".py",
   "mimetype": "text/x-python",
   "name": "python",
   "nbconvert_exporter": "python",
   "pygments_lexer": "ipython3",
   "version": "3.10.9"
  },
  "otter": {
   "OK_FORMAT": true,
   "tests": {
    "step01": {
     "name": "step01",
     "points": 1,
     "suites": [
      {
       "cases": [],
       "scored": true,
       "setup": "",
       "teardown": "",
       "type": "doctest"
      }
     ]
    },
    "step02": {
     "name": "step02",
     "points": 3,
     "suites": [
      {
       "cases": [],
       "scored": true,
       "setup": "",
       "teardown": "",
       "type": "doctest"
      }
     ]
    },
    "step03": {
     "name": "step03",
     "points": 3,
     "suites": [
      {
       "cases": [],
       "scored": true,
       "setup": "",
       "teardown": "",
       "type": "doctest"
      }
     ]
    },
    "step04": {
     "name": "step04",
     "points": 4,
     "suites": [
      {
       "cases": [],
       "scored": true,
       "setup": "",
       "teardown": "",
       "type": "doctest"
      }
     ]
    },
    "step05": {
     "name": "step05",
     "points": 2,
     "suites": [
      {
       "cases": [],
       "scored": true,
       "setup": "",
       "teardown": "",
       "type": "doctest"
      }
     ]
    },
    "step06": {
     "name": "step06",
     "points": 3,
     "suites": [
      {
       "cases": [],
       "scored": true,
       "setup": "",
       "teardown": "",
       "type": "doctest"
      }
     ]
    },
    "step07": {
     "name": "step07",
     "points": 3,
     "suites": [
      {
       "cases": [],
       "scored": true,
       "setup": "",
       "teardown": "",
       "type": "doctest"
      }
     ]
    },
    "step08": {
     "name": "step08",
     "points": 3,
     "suites": [
      {
       "cases": [],
       "scored": true,
       "setup": "",
       "teardown": "",
       "type": "doctest"
      }
     ]
    },
    "step09": {
     "name": "step09",
     "points": 2,
     "suites": [
      {
       "cases": [],
       "scored": true,
       "setup": "",
       "teardown": "",
       "type": "doctest"
      }
     ]
    },
    "step10": {
     "name": "step10",
     "points": 3,
     "suites": [
      {
       "cases": [],
       "scored": true,
       "setup": "",
       "teardown": "",
       "type": "doctest"
      }
     ]
    },
    "step11": {
     "name": "step11",
     "points": 2,
     "suites": [
      {
       "cases": [],
       "scored": true,
       "setup": "",
       "teardown": "",
       "type": "doctest"
      }
     ]
    },
    "step12": {
     "name": "step12",
     "points": 2,
     "suites": [
      {
       "cases": [],
       "scored": true,
       "setup": "",
       "teardown": "",
       "type": "doctest"
      }
     ]
    },
    "step13": {
     "name": "step13",
     "points": 2,
     "suites": [
      {
       "cases": [],
       "scored": true,
       "setup": "",
       "teardown": "",
       "type": "doctest"
      }
     ]
    },
    "step14": {
     "name": "step14",
     "points": 2,
     "suites": [
      {
       "cases": [],
       "scored": true,
       "setup": "",
       "teardown": "",
       "type": "doctest"
      }
     ]
    },
    "step15": {
     "name": "step15",
     "points": 0,
     "suites": [
      {
       "cases": [],
       "scored": true,
       "setup": "",
       "teardown": "",
       "type": "doctest"
      }
     ]
    },
    "step16": {
     "name": "step16",
     "points": 3,
     "suites": [
      {
       "cases": [],
       "scored": true,
       "setup": "",
       "teardown": "",
       "type": "doctest"
      }
     ]
    },
    "step17": {
     "name": "step17",
     "points": 4,
     "suites": [
      {
       "cases": [],
       "scored": true,
       "setup": "",
       "teardown": "",
       "type": "doctest"
      }
     ]
    },
    "step18": {
     "name": "step18",
     "points": 3,
     "suites": [
      {
       "cases": [],
       "scored": true,
       "setup": "",
       "teardown": "",
       "type": "doctest"
      }
     ]
    },
    "step19": {
     "name": "step19",
     "points": 2,
     "suites": [
      {
       "cases": [],
       "scored": true,
       "setup": "",
       "teardown": "",
       "type": "doctest"
      }
     ]
    },
    "step20": {
     "name": "step20",
     "points": 2,
     "suites": [
      {
       "cases": [],
       "scored": true,
       "setup": "",
       "teardown": "",
       "type": "doctest"
      }
     ]
    },
    "step21": {
     "name": "step21",
     "points": 3,
     "suites": [
      {
       "cases": [],
       "scored": true,
       "setup": "",
       "teardown": "",
       "type": "doctest"
      }
     ]
    },
    "step22": {
     "name": "step22",
     "points": 3,
     "suites": [
      {
       "cases": [],
       "scored": true,
       "setup": "",
       "teardown": "",
       "type": "doctest"
      }
     ]
    },
    "step23": {
     "name": "step23",
     "points": 2,
     "suites": [
      {
       "cases": [],
       "scored": true,
       "setup": "",
       "teardown": "",
       "type": "doctest"
      }
     ]
    },
    "step24": {
     "name": "step24",
     "points": 3,
     "suites": [
      {
       "cases": [],
       "scored": true,
       "setup": "",
       "teardown": "",
       "type": "doctest"
      }
     ]
    }
   }
  }
 },
 "nbformat": 4,
 "nbformat_minor": 4
}

{
 "cells": [
  {
   "cell_type": "code",
   "execution_count": 1,
   "metadata": {},
   "outputs": [],
   "source": [
    "import json\n",
    "\n",
    "def convert_txt_to_json(input_filename, output_filename):\n",
    "    main_count = 0\n",
    "    sub_count = 0\n",
    "\n",
    "    # Read the content of the file\n",
    "    with open(input_filename, 'r') as file:\n",
    "        content = file.read().strip()\n",
    "    \n",
    "    # Split the content by line breaks to get individual techniques\n",
    "    techniques = content.split('\\n')\n",
    "    \n",
    "    # Create a list to store the technique information\n",
    "    techniques_list = []\n",
    "    last_main_id = None  # This will keep track of the last main ID (without period)\n",
    "    \n",
    "    for technique in techniques:\n",
    "        # Split each technique by the first two spaces\n",
    "        id, name, description = technique.split('\\t', 2)\n",
    "        \n",
    "        # Check if the id starts with a period\n",
    "        if id.startswith('.'):\n",
    "            sub_count += 1\n",
    "            if last_main_id:\n",
    "                id = last_main_id + id\n",
    "            else:\n",
    "                raise ValueError(f\"Invalid structure: An ID '{id}' is starting with a period without having a main ID before it.\")\n",
    "        else:\n",
    "            main_count += 1\n",
    "            last_main_id = id\n",
    "        \n",
    "        # Create a dictionary and append it to the list\n",
    "        techniques_list.append({\n",
    "            'id': id,\n",
    "            'name': name,\n",
    "            'description': description\n",
    "        })\n",
    "    \n",
    "    # Write the extracted information to a JSON file\n",
    "    with open(output_filename, 'w') as json_file:\n",
    "        json.dump(techniques_list, json_file, indent=4)\n",
    "\n",
    "    print(main_count)\n",
    "    print(sub_count)\n"
   ]
  },
  {
   "cell_type": "code",
   "execution_count": 1,
   "metadata": {},
   "outputs": [],
   "source": [
    "import json\n",
    "\n",
    "def convert_txt_to_json(input_filename, output_filename):\n",
    "    main_count = 0\n",
    "    sub_count = 0\n",
    "\n",
    "    # Read the content of the file\n",
    "    with open(input_filename, 'r') as file:\n",
    "        content = file.read().strip()\n",
    "    \n",
    "    # Split the content by line breaks to get individual techniques\n",
    "    techniques = content.split('\\n')\n",
    "    \n",
    "    # Create a list to store the technique information\n",
    "    techniques_list = []\n",
    "    last_main_technique = None  # This will keep track of the last main technique\n",
    "    \n",
    "    for technique in techniques:\n",
    "        # Split each technique by the first two spaces\n",
    "        id, name, description = technique.split('\\t', 2)\n",
    "        \n",
    "        # Check if the id starts with a period\n",
    "        if id.startswith('.'):\n",
    "            sub_count += 1\n",
    "            if last_main_technique:\n",
    "                sub_technique = {\n",
    "                    'id': last_main_technique['id'] + id,\n",
    "                    'name': name,\n",
    "                    'description': description\n",
    "                }\n",
    "                last_main_technique['sub-techniques'].append(sub_technique)\n",
    "            else:\n",
    "                raise ValueError(f\"Invalid structure: An ID '{id}' is starting with a period without having a main ID before it.\")\n",
    "        else:\n",
    "            main_count += 1\n",
    "            main_technique = {\n",
    "                'id': id,\n",
    "                'name': name,\n",
    "                'description': description,\n",
    "                'sub-techniques': []\n",
    "            }\n",
    "            techniques_list.append(main_technique)\n",
    "            last_main_technique = main_technique\n",
    "    \n",
    "    # Write the extracted information to a JSON file\n",
    "    with open(output_filename, 'w') as json_file:\n",
    "        json.dump(techniques_list, json_file, indent=4)\n",
    "\n",
    "    print(main_count)\n",
    "    print(sub_count)\n",
    "\n",
    "# Example usage\n",
    "# convert_txt_to_json('input.txt', 'output.json')\n"
   ]
  },
  {
   "cell_type": "code",
   "execution_count": 12,
   "metadata": {},
   "outputs": [
    {
     "name": "stdout",
     "output_type": "stream",
     "text": [
      "14\n",
      "0\n"
     ]
    }
   ],
   "source": [
    "convert_txt_to_json(\"ImpairProcessControl.txt\", \"ImpairProcessControl.json\")"
   ]
  }
 ],
 "metadata": {
  "kernelspec": {
   "display_name": "uml_env",
   "language": "python",
   "name": "python3"
  },
  "language_info": {
   "codemirror_mode": {
    "name": "ipython",
    "version": 3
   },
   "file_extension": ".py",
   "mimetype": "text/x-python",
   "name": "python",
   "nbconvert_exporter": "python",
   "pygments_lexer": "ipython3",
   "version": "3.10.9"
  },
  "orig_nbformat": 4
 },
 "nbformat": 4,
 "nbformat_minor": 2
}
